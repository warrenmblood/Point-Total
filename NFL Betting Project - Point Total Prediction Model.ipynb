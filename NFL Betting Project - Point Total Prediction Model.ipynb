{
 "cells": [
  {
   "cell_type": "markdown",
   "metadata": {},
   "source": [
    "<h1>NFL Betting Project: Point Total Prediction Model</h1>"
   ]
  },
  {
   "cell_type": "code",
   "execution_count": 2,
   "metadata": {},
   "outputs": [],
   "source": [
    "# author: Warren Blood\n",
    "# last update: 11-23-2021"
   ]
  },
  {
   "cell_type": "code",
   "execution_count": 384,
   "metadata": {},
   "outputs": [],
   "source": [
    "# import packages\n",
    "import math\n",
    "import pandas as pd\n",
    "import numpy as np\n",
    "import matplotlib.pyplot as plt\n",
    "from sklearn.pipeline import Pipeline\n",
    "from sklearn.preprocessing import StandardScaler\n",
    "from sklearn.preprocessing import MinMaxScaler\n",
    "from sklearn.model_selection import train_test_split\n",
    "from sklearn.model_selection import KFold\n",
    "from sklearn.model_selection import GridSearchCV\n",
    "from sklearn.model_selection import RandomizedSearchCV\n",
    "from sklearn.decomposition import PCA\n",
    "from sklearn.feature_selection import RFECV\n",
    "from sklearn.ensemble import RandomForestClassifier\n",
    "from sklearn.neural_network import MLPClassifier\n",
    "from sklearn.linear_model import RidgeClassifier\n",
    "from sklearn.linear_model import RidgeClassifierCV\n",
    "from sklearn.linear_model import SGDClassifier\n",
    "from sklearn.svm import SVC\n",
    "from sklearn.naive_bayes import GaussianNB\n",
    "from sklearn.linear_model import LogisticRegression\n",
    "from sklearn.linear_model import LogisticRegressionCV\n",
    "from sklearn.metrics import balanced_accuracy_score"
   ]
  },
  {
   "cell_type": "markdown",
   "metadata": {},
   "source": [
    "<h3>Data Import</h3>"
   ]
  },
  {
   "cell_type": "code",
   "execution_count": 451,
   "metadata": {},
   "outputs": [
    {
     "name": "stdout",
     "output_type": "stream",
     "text": [
      "Number of missing values in data: 0\n"
     ]
    },
    {
     "data": {
      "text/html": [
       "<div>\n",
       "<style scoped>\n",
       "    .dataframe tbody tr th:only-of-type {\n",
       "        vertical-align: middle;\n",
       "    }\n",
       "\n",
       "    .dataframe tbody tr th {\n",
       "        vertical-align: top;\n",
       "    }\n",
       "\n",
       "    .dataframe thead th {\n",
       "        text-align: right;\n",
       "    }\n",
       "</style>\n",
       "<table border=\"1\" class=\"dataframe\">\n",
       "  <thead>\n",
       "    <tr style=\"text-align: right;\">\n",
       "      <th></th>\n",
       "      <th>indoor_stadium</th>\n",
       "      <th>divisional</th>\n",
       "      <th>AT&amp;T Stadium</th>\n",
       "      <th>Allegiant Stadium</th>\n",
       "      <th>Arrowhead Stadium</th>\n",
       "      <th>Azteca Stadium</th>\n",
       "      <th>Bank of America Stadium</th>\n",
       "      <th>Caesars Superdome</th>\n",
       "      <th>Candlestick Park</th>\n",
       "      <th>Edward Jones Dome</th>\n",
       "      <th>...</th>\n",
       "      <th>home_margin_o_u</th>\n",
       "      <th>away_margin_o_u</th>\n",
       "      <th>home_margin_ats</th>\n",
       "      <th>away_margin_ats</th>\n",
       "      <th>point_total</th>\n",
       "      <th>vegas_over_under</th>\n",
       "      <th>hit_over</th>\n",
       "      <th>home_min_away_spread</th>\n",
       "      <th>vegas_home_min_away_spread</th>\n",
       "      <th>home_covered_spread</th>\n",
       "    </tr>\n",
       "  </thead>\n",
       "  <tbody>\n",
       "    <tr>\n",
       "      <th>0</th>\n",
       "      <td>0.0</td>\n",
       "      <td>1.0</td>\n",
       "      <td>0.0</td>\n",
       "      <td>0.0</td>\n",
       "      <td>0.0</td>\n",
       "      <td>0.0</td>\n",
       "      <td>0.0</td>\n",
       "      <td>0.0</td>\n",
       "      <td>0.0</td>\n",
       "      <td>0.0</td>\n",
       "      <td>...</td>\n",
       "      <td>-2.0</td>\n",
       "      <td>0.0</td>\n",
       "      <td>-4.0</td>\n",
       "      <td>0.0</td>\n",
       "      <td>44.0</td>\n",
       "      <td>39.0</td>\n",
       "      <td>1.0</td>\n",
       "      <td>-18.0</td>\n",
       "      <td>-6.5</td>\n",
       "      <td>0.0</td>\n",
       "    </tr>\n",
       "    <tr>\n",
       "      <th>1</th>\n",
       "      <td>1.0</td>\n",
       "      <td>0.0</td>\n",
       "      <td>0.0</td>\n",
       "      <td>0.0</td>\n",
       "      <td>0.0</td>\n",
       "      <td>0.0</td>\n",
       "      <td>0.0</td>\n",
       "      <td>0.0</td>\n",
       "      <td>0.0</td>\n",
       "      <td>0.0</td>\n",
       "      <td>...</td>\n",
       "      <td>1.0</td>\n",
       "      <td>-1.0</td>\n",
       "      <td>1.0</td>\n",
       "      <td>5.0</td>\n",
       "      <td>61.0</td>\n",
       "      <td>51.0</td>\n",
       "      <td>1.0</td>\n",
       "      <td>1.0</td>\n",
       "      <td>3.0</td>\n",
       "      <td>0.0</td>\n",
       "    </tr>\n",
       "    <tr>\n",
       "      <th>2</th>\n",
       "      <td>0.0</td>\n",
       "      <td>0.0</td>\n",
       "      <td>0.0</td>\n",
       "      <td>0.0</td>\n",
       "      <td>0.0</td>\n",
       "      <td>0.0</td>\n",
       "      <td>0.0</td>\n",
       "      <td>0.0</td>\n",
       "      <td>0.0</td>\n",
       "      <td>0.0</td>\n",
       "      <td>...</td>\n",
       "      <td>-1.0</td>\n",
       "      <td>1.0</td>\n",
       "      <td>-5.0</td>\n",
       "      <td>3.0</td>\n",
       "      <td>52.0</td>\n",
       "      <td>40.0</td>\n",
       "      <td>1.0</td>\n",
       "      <td>-32.0</td>\n",
       "      <td>-14.5</td>\n",
       "      <td>0.0</td>\n",
       "    </tr>\n",
       "    <tr>\n",
       "      <th>3</th>\n",
       "      <td>0.0</td>\n",
       "      <td>0.0</td>\n",
       "      <td>0.0</td>\n",
       "      <td>0.0</td>\n",
       "      <td>1.0</td>\n",
       "      <td>0.0</td>\n",
       "      <td>0.0</td>\n",
       "      <td>0.0</td>\n",
       "      <td>0.0</td>\n",
       "      <td>0.0</td>\n",
       "      <td>...</td>\n",
       "      <td>-5.0</td>\n",
       "      <td>-1.0</td>\n",
       "      <td>3.0</td>\n",
       "      <td>-1.0</td>\n",
       "      <td>40.0</td>\n",
       "      <td>39.0</td>\n",
       "      <td>1.0</td>\n",
       "      <td>6.0</td>\n",
       "      <td>7.0</td>\n",
       "      <td>0.0</td>\n",
       "    </tr>\n",
       "    <tr>\n",
       "      <th>4</th>\n",
       "      <td>0.0</td>\n",
       "      <td>1.0</td>\n",
       "      <td>0.0</td>\n",
       "      <td>0.0</td>\n",
       "      <td>0.0</td>\n",
       "      <td>0.0</td>\n",
       "      <td>0.0</td>\n",
       "      <td>0.0</td>\n",
       "      <td>0.0</td>\n",
       "      <td>0.0</td>\n",
       "      <td>...</td>\n",
       "      <td>-1.0</td>\n",
       "      <td>4.0</td>\n",
       "      <td>-1.0</td>\n",
       "      <td>0.0</td>\n",
       "      <td>44.0</td>\n",
       "      <td>46.5</td>\n",
       "      <td>0.0</td>\n",
       "      <td>10.0</td>\n",
       "      <td>5.5</td>\n",
       "      <td>1.0</td>\n",
       "    </tr>\n",
       "  </tbody>\n",
       "</table>\n",
       "<p>5 rows × 316 columns</p>\n",
       "</div>"
      ],
      "text/plain": [
       "   indoor_stadium  divisional  AT&T Stadium  Allegiant Stadium  \\\n",
       "0             0.0         1.0           0.0                0.0   \n",
       "1             1.0         0.0           0.0                0.0   \n",
       "2             0.0         0.0           0.0                0.0   \n",
       "3             0.0         0.0           0.0                0.0   \n",
       "4             0.0         1.0           0.0                0.0   \n",
       "\n",
       "   Arrowhead Stadium  Azteca Stadium  Bank of America Stadium  \\\n",
       "0                0.0             0.0                      0.0   \n",
       "1                0.0             0.0                      0.0   \n",
       "2                0.0             0.0                      0.0   \n",
       "3                1.0             0.0                      0.0   \n",
       "4                0.0             0.0                      0.0   \n",
       "\n",
       "   Caesars Superdome  Candlestick Park  Edward Jones Dome  ...  \\\n",
       "0                0.0               0.0                0.0  ...   \n",
       "1                0.0               0.0                0.0  ...   \n",
       "2                0.0               0.0                0.0  ...   \n",
       "3                0.0               0.0                0.0  ...   \n",
       "4                0.0               0.0                0.0  ...   \n",
       "\n",
       "   home_margin_o_u  away_margin_o_u  home_margin_ats  away_margin_ats  \\\n",
       "0             -2.0              0.0             -4.0              0.0   \n",
       "1              1.0             -1.0              1.0              5.0   \n",
       "2             -1.0              1.0             -5.0              3.0   \n",
       "3             -5.0             -1.0              3.0             -1.0   \n",
       "4             -1.0              4.0             -1.0              0.0   \n",
       "\n",
       "   point_total  vegas_over_under  hit_over  home_min_away_spread  \\\n",
       "0         44.0              39.0       1.0                 -18.0   \n",
       "1         61.0              51.0       1.0                   1.0   \n",
       "2         52.0              40.0       1.0                 -32.0   \n",
       "3         40.0              39.0       1.0                   6.0   \n",
       "4         44.0              46.5       0.0                  10.0   \n",
       "\n",
       "   vegas_home_min_away_spread  home_covered_spread  \n",
       "0                        -6.5                  0.0  \n",
       "1                         3.0                  0.0  \n",
       "2                       -14.5                  0.0  \n",
       "3                         7.0                  0.0  \n",
       "4                         5.5                  1.0  \n",
       "\n",
       "[5 rows x 316 columns]"
      ]
     },
     "execution_count": 451,
     "metadata": {},
     "output_type": "execute_result"
    }
   ],
   "source": [
    "# import preprocessed game data csv file\n",
    "data = pd.read_csv('Preprocessed Game Data.csv', sep=',', encoding='unicode_escape')\n",
    "# check for any missing values in data\n",
    "print('Number of missing values in data: ' + str(sum(data.isnull().sum())))\n",
    "data.head()"
   ]
  },
  {
   "cell_type": "code",
   "execution_count": 452,
   "metadata": {},
   "outputs": [],
   "source": [
    "# drop columns from data that contains info not available prior to kickoff to create feature space X\n",
    "X = data.drop(['point_total', 'hit_over', 'home_min_away_spread', 'home_covered_spread'], axis=1)\n",
    "\n",
    "# additionally, drop OHE features without sufficient presence in dataset or that are no longer relevant (i.e. retired head \n",
    "# coaches & first-time head coaches with few examples in dataset)\n",
    "X = X.drop(['Allegiant Stadium','Azteca Stadium','Candlestick Park','Edward Jones Dome','Georgia Dome',\n",
    "            'Los Angeles Memorial Coliseum','Mall of America Field','Qualcomm Stadium','Ring Central Coliseum',\n",
    "            'SoFi Stadium','StubHub Center','TCF Bank Stadium','Tottenham Stadium','Twickenham Stadium',\n",
    "            'Wembley Stadium','home_coach Adam Gase','home_coach Anthony Lynn','home_coach Arthur Smith',\n",
    "            'home_coach Ben McAdoo','home_coach Bill Callahan',\"home_coach Bill O'Brien\",'home_coach Brandon Staley',\n",
    "            'home_coach Brian Flores','home_coach Chip Kelly','home_coach Chuck Pagano','home_coach Dan Campbell',\n",
    "            'home_coach Dan Quinn','home_coach Darrell Bevell','home_coach David Culley','home_coach Dennis Allen',\n",
    "            'home_coach Dirk Koetter','home_coach Doug Marrone','home_coach Doug Pederson','home_coach Freddie Kitchens',\n",
    "            'home_coach Gary Kubiak','home_coach Greg Schiano','home_coach Gregg Williams','home_coach Gus Bradley',\n",
    "            'home_coach Hue Jackson','home_coach Jack Del Rio','home_coach Jason Garrett','home_coach Jay Gruden',\n",
    "            'home_coach Jeff Fisher','home_coach Jim Caldwell','home_coach Jim Harbaugh','home_coach Jim Schwartz',\n",
    "            'home_coach Jim Tomsula','home_coach Joe Judge','home_coach Joe Philbin','home_coach John Fassel',\n",
    "            'home_coach John Fox','home_coach Jon Gruden','home_coach Ken Whisenhunt','home_coach Kevin Stefanski',\n",
    "            'home_coach Kliff Kingsbury','home_coach Leslie Frazier','home_coach Lovie Smith','home_coach Marc Trestman',\n",
    "            'home_coach Marvin Lewis','home_coach Matt LaFleur','home_coach Matt Nagy','home_coach Matt Patricia',\n",
    "            'home_coach Matt Rhule','home_coach Mike McCoy','home_coach Mike Mularkey','home_coach Mike Munchak',\n",
    "            'home_coach Mike Pettine','home_coach Mike Shanahan','home_coach Mike Smith','home_coach Nick Sirianni',\n",
    "            'home_coach Pat Shurmur','home_coach Perry Fewell','home_coach Raheem Morris','home_coach Rex Ryan',\n",
    "            'home_coach Rob Chudzinski','home_coach Robert Saleh','home_coach Romeo Crennel','home_coach Steve Spagnuolo',\n",
    "            'home_coach Steve Wilks','home_coach Todd Bowles','home_coach Tom Coughlin','home_coach Tony Sparano',\n",
    "            'home_coach Urban Meyer','home_coach Vance Joseph','home_coach Vic Fangio','home_coach Wade Phillips',\n",
    "            'home_coach Zac Taylor','away_coach Adam Gase','away_coach Anthony Lynn','away_coach Arthur Smith',\n",
    "            'away_coach Ben McAdoo','away_coach Bill Callahan',\"away_coach Bill O'Brien\",'away_coach Brandon Staley',\n",
    "            'away_coach Brian Flores','away_coach Chip Kelly','away_coach Chuck Pagano','away_coach Dan Campbell',\n",
    "            'away_coach Dan Quinn','away_coach Darrell Bevell','away_coach David Culley','away_coach Dennis Allen',\n",
    "            'away_coach Dirk Koetter','away_coach Doug Marrone','away_coach Doug Pederson','away_coach Freddie Kitchens',\n",
    "            'away_coach Gary Kubiak','away_coach Greg Schiano','away_coach Gregg Williams','away_coach Gus Bradley',\n",
    "            'away_coach Hue Jackson','away_coach Jack Del Rio','away_coach Jason Garrett','away_coach Jay Gruden',\n",
    "            'away_coach Jeff Fisher','away_coach Jim Caldwell','away_coach Jim Harbaugh','away_coach Jim Schwartz',\n",
    "            'away_coach Jim Tomsula','away_coach Joe Judge','away_coach Joe Philbin','away_coach John Fassel',\n",
    "            'away_coach John Fox','away_coach Jon Gruden','away_coach Ken Whisenhunt','away_coach Kevin Stefanski',\n",
    "            'away_coach Kliff Kingsbury','away_coach Leslie Frazier','away_coach Lovie Smith','away_coach Marc Trestman',\n",
    "            'away_coach Marvin Lewis','away_coach Matt LaFleur','away_coach Matt Nagy','away_coach Matt Patricia',\n",
    "            'away_coach Matt Rhule','away_coach Mike McCoy','away_coach Mike Mularkey','away_coach Mike Munchak',\n",
    "            'away_coach Mike Pettine','away_coach Mike Shanahan','away_coach Mike Smith','away_coach Nick Sirianni',\n",
    "            'away_coach Pat Shurmur','away_coach Perry Fewell','away_coach Raheem Morris','away_coach Rex Ryan',\n",
    "            'away_coach Rob Chudzinski','away_coach Robert Saleh','away_coach Romeo Crennel','away_coach Steve Spagnuolo',\n",
    "            'away_coach Steve Wilks','away_coach Todd Bowles','away_coach Tom Coughlin','away_coach Tony Sparano',\n",
    "            'away_coach Urban Meyer','away_coach Vance Joseph','away_coach Vic Fangio','away_coach Wade Phillips',\n",
    "            'away_coach Zac Taylor'], axis=1)\n",
    "\n",
    "# target column y\n",
    "y = data['hit_over']"
   ]
  },
  {
   "cell_type": "code",
   "execution_count": 453,
   "metadata": {},
   "outputs": [
    {
     "name": "stdout",
     "output_type": "stream",
     "text": [
      "indoor_stadium: 541.0\n",
      "divisional: 742.0\n",
      "AT&T Stadium: 62.0\n",
      "Arrowhead Stadium: 61.0\n",
      "Bank of America Stadium: 64.0\n",
      "Caesars Superdome: 62.0\n",
      "Empower Field at Mile High: 63.0\n",
      "FedExField: 63.0\n",
      "FirstEnergy Stadium: 61.0\n",
      "Ford Field: 63.0\n",
      "Gillette Stadium: 63.0\n",
      "Hard Rock Stadium: 61.0\n",
      "Heinz Field: 64.0\n",
      "Highmark Stadium: 60.0\n",
      "Lambeau Field: 64.0\n",
      "Levi's Stadium: 54.0\n",
      "Lincoln Financial Field: 64.0\n",
      "Lucas Oil Stadium: 63.0\n",
      "Lumen Field: 64.0\n",
      "M&T Bank Stadium: 62.0\n",
      "Mercedes-Benz Stadium: 34.0\n",
      "MetLife Stadium: 124.0\n",
      "NRG Stadium: 63.0\n",
      "Nissan Stadium: 61.0\n",
      "Paul Brown Stadium: 63.0\n",
      "Raymond James Stadium: 61.0\n",
      "Soldier Field: 62.0\n",
      "State Farm Stadium: 66.0\n",
      "TIAA Bank Field: 57.0\n",
      "U.S. Bank Stadium: 42.0\n",
      "temp: 125120.0\n",
      "humidity: 1137.060000000013\n",
      "wind_speed: 11922.0\n",
      "home_coach Andy Reid: 62.0\n",
      "home_coach Bill Belichick: 63.0\n",
      "home_coach Bruce Arians: 54.0\n",
      "home_coach Frank Reich: 26.0\n",
      "home_coach John Harbaugh: 62.0\n",
      "home_coach Kyle Shanahan: 33.0\n",
      "home_coach Mike McCarthy: 55.0\n",
      "home_coach Mike Tomlin: 64.0\n",
      "home_coach Mike Vrabel: 25.0\n",
      "home_coach Mike Zimmer: 58.0\n",
      "home_coach Pete Carroll: 64.0\n",
      "home_coach Ron Rivera: 63.0\n",
      "home_coach Sean McDermott: 33.0\n",
      "home_coach Sean McVay: 34.0\n",
      "home_coach Sean Payton: 63.0\n",
      "away_coach Andy Reid: 64.0\n",
      "away_coach Bill Belichick: 62.0\n",
      "away_coach Bruce Arians: 54.0\n",
      "away_coach Frank Reich: 26.0\n",
      "away_coach John Harbaugh: 62.0\n",
      "away_coach Kyle Shanahan: 34.0\n",
      "away_coach Mike McCarthy: 53.0\n",
      "away_coach Mike Tomlin: 62.0\n",
      "away_coach Mike Vrabel: 26.0\n",
      "away_coach Mike Zimmer: 58.0\n",
      "away_coach Pete Carroll: 63.0\n",
      "away_coach Ron Rivera: 61.0\n",
      "away_coach Sean McDermott: 33.0\n",
      "away_coach Sean McVay: 33.0\n",
      "away_coach Sean Payton: 65.0\n",
      "home_rest_days: 46493.0\n",
      "away_rest_days: 46705.0\n",
      "home_avg_pos_time: 60173.739999999925\n",
      "away_avg_pos_time: 60247.25999999996\n",
      "home_PAT: 1906.5497999999939\n",
      "away_PAT: 1910.8813999999943\n",
      "home_FG_39: 1880.1320999999957\n",
      "away_FG_39: 1878.4069999999956\n",
      "home_FG_49: 1509.0932999999957\n",
      "away_FG_49: 1509.2764999999965\n",
      "home_FG_50: 1006.9709999999991\n",
      "away_FG_50: 1027.602399999999\n",
      "home_yds_per_punt: 91164.62999999977\n",
      "away_yds_per_punt: 91103.3699999999\n",
      "home_punts_in_20: 750.7592999999993\n",
      "away_punts_in_20: 752.5145000000008\n",
      "home_off_pen_yds: 52149.27000000012\n",
      "away_off_pen_yds: 52166.91999999993\n",
      "home_def_pen_yds: 60238.00000000019\n",
      "away_def_pen_yds: 59519.59000000014\n",
      "home_off_rush_ypc: 8889.286000000016\n",
      "away_off_rush_ypc: 8938.723999999987\n",
      "home_def_rush_ypc: 8950.572999999993\n",
      "away_def_rush_ypc: 8900.899999999992\n",
      "home_off_any_a: 14159.424999999977\n",
      "away_off_any_a: 14199.38099999998\n",
      "home_def_any_a: 14205.733999999988\n",
      "away_def_any_a: 14175.306999999993\n",
      "home_off_epr: 205.62099999999984\n",
      "away_off_epr: 206.6746000000006\n",
      "home_def_epr: 206.49430000000012\n",
      "away_def_epr: 205.25429999999972\n",
      "home_off_edps: 1051.2183000000018\n",
      "away_off_edps: 1054.9999999999993\n",
      "home_def_edps: 1056.2532\n",
      "away_def_edps: 1052.6139000000012\n",
      "home_off_edrs: 939.3924000000009\n",
      "away_off_edrs: 940.3782999999981\n",
      "home_def_edrs: 941.3739000000002\n",
      "away_def_edrs: 939.5437000000009\n",
      "home_fumbles_lost: 6717.0\n",
      "away_fumbles_lost: 6737.0\n",
      "home_fumbles_taken: 6771.0\n",
      "away_fumbles_taken: 6680.0\n",
      "home_off_int_rate: 48.449099999999994\n",
      "away_off_int_rate: 48.45769999999998\n",
      "home_def_int_rate: 48.650899999999886\n",
      "away_def_int_rate: 48.00949999999996\n",
      "home_off_yppr: 20297.24999999996\n",
      "away_off_yppr: 20303.01000000003\n",
      "home_def_yppr: 20057.409999999996\n",
      "away_def_yppr: 20033.690000000002\n",
      "home_off_ypkr: 45872.22999999999\n",
      "away_off_ypkr: 46081.80999999995\n",
      "home_def_ypkr: 46408.15000000004\n",
      "away_def_ypkr: 46266.04999999997\n",
      "home_off_avg_sfp: 55741.429999999986\n",
      "away_off_avg_sfp: 55902.039999999986\n",
      "home_def_avg_sfp: 55864.02999999999\n",
      "away_def_avg_sfp: 55789.41\n",
      "home_off_spcr: 1377.4336000000028\n",
      "away_off_spcr: 1379.8575999999991\n",
      "home_def_spcr: 1380.1016000000034\n",
      "away_def_spcr: 1379.078600000002\n",
      "home_off_dpcr: 820.3356999999986\n",
      "away_off_dpcr: 821.5698999999997\n",
      "home_def_dpcr: 822.1032999999971\n",
      "away_def_dpcr: 821.3115999999984\n",
      "home_off_tdcr: 795.9758000000002\n",
      "away_off_tdcr: 800.4912999999996\n",
      "home_def_tdcr: 799.3656999999998\n",
      "away_def_tdcr: 795.8482\n",
      "home_off_fdcr: 1008.6334999999998\n",
      "away_off_fdcr: 1007.0134000000014\n",
      "home_def_fdcr: 992.5214999999998\n",
      "away_def_fdcr: 1002.9851000000008\n",
      "home_off_rze: 1072.3595999999993\n",
      "away_off_rze: 1071.8089000000014\n",
      "home_def_rze: 1075.3832000000007\n",
      "away_def_rze: 1070.5350999999991\n",
      "home_def_pts_100: 12570.862000000046\n",
      "away_def_pts_100: 12572.335999999998\n",
      "home_lw_tom: 69.0\n",
      "away_lw_tom: -72.0\n",
      "home_margin_o_u: 280.0\n",
      "away_margin_o_u: 349.0\n",
      "home_margin_ats: 7.0\n",
      "away_margin_ats: 46.0\n",
      "vegas_over_under: 92129.5\n",
      "vegas_home_min_away_spread: 3988.5\n"
     ]
    }
   ],
   "source": [
    "for i in (X.columns):\n",
    "    print(str(i) + ': ' + str(sum(X[i])))"
   ]
  },
  {
   "cell_type": "markdown",
   "metadata": {},
   "source": [
    "<h3>Split Data</h3>"
   ]
  },
  {
   "cell_type": "code",
   "execution_count": 454,
   "metadata": {},
   "outputs": [],
   "source": [
    "# Split data into 80/20 training and test sets\n",
    "X_train, X_test, y_train, y_test = train_test_split(X, y, test_size=0.2, random_state=5)"
   ]
  },
  {
   "cell_type": "code",
   "execution_count": 455,
   "metadata": {},
   "outputs": [],
   "source": [
    "# k-Fold validation split do perform throughout model selection\n",
    "kf = KFold(n_splits=10, shuffle=True, random_state=5)"
   ]
  },
  {
   "cell_type": "markdown",
   "metadata": {},
   "source": [
    "<h2>Model 1: Random Forest Classifier</h2>"
   ]
  },
  {
   "cell_type": "code",
   "execution_count": 13,
   "metadata": {},
   "outputs": [],
   "source": [
    "# Random Forest Classifier Hyperparameters Tuned:\n",
    "# - n_estimators: Number of trees in forest\n",
    "# - max_depth: Maximum number of levels in tree\n",
    "# - min_samples_split: Minimum number of samples required to split an internal node\n",
    "# - min_samples_leaf: Minimum number of samples required to be at a leaf node\n",
    "# - max_features: Number of features to consider when looking for the best split\n",
    "# - max_leaf_nodes: Maximum number of leaf nodes"
   ]
  },
  {
   "cell_type": "markdown",
   "metadata": {},
   "source": [
    "<h3>1.1: No Feature Selection/Extraction</h3>"
   ]
  },
  {
   "cell_type": "code",
   "execution_count": 14,
   "metadata": {},
   "outputs": [],
   "source": [
    "# Feature Scaling:\n",
    "# - MinMaxScaler()\n",
    "# - StandardScaler()"
   ]
  },
  {
   "cell_type": "code",
   "execution_count": 25,
   "metadata": {},
   "outputs": [],
   "source": [
    "scaler = StandardScaler()\n",
    "forest = RandomForestClassifier(n_jobs=-1, random_state=5)\n",
    "\n",
    "parameters = dict(n_estimators=np.arange(100, 1001, 100), max_depth=np.arange(5,16,1), min_samples_split=np.arange(2,6,1), \n",
    "                     min_samples_leaf=np.arange(1,16,1), max_features=['auto','sqrt','log2'], max_leaf_nodes=np.arange(10,80,5))\n",
    "\n",
    "search = RandomizedSearchCV(estimator=forest, param_distributions=parameters, n_iter=50, scoring='balanced_accuracy', \n",
    "                            n_jobs=-1, cv=kf, random_state=5)\n",
    "\n",
    "pipeline = Pipeline(steps=[('scale', scaler), ('search', search)])\n",
    "pipeline.fit(X_train, y_train)\n",
    "\n",
    "best_params = search.best_params_\n",
    "best_cv_score = search.best_score_"
   ]
  },
  {
   "cell_type": "code",
   "execution_count": 26,
   "metadata": {},
   "outputs": [
    {
     "data": {
      "text/plain": [
       "{'n_estimators': 500,\n",
       " 'min_samples_split': 2,\n",
       " 'min_samples_leaf': 7,\n",
       " 'max_leaf_nodes': 60,\n",
       " 'max_features': 'sqrt',\n",
       " 'max_depth': 11}"
      ]
     },
     "execution_count": 26,
     "metadata": {},
     "output_type": "execute_result"
    }
   ],
   "source": [
    "best_params"
   ]
  },
  {
   "cell_type": "code",
   "execution_count": 30,
   "metadata": {},
   "outputs": [
    {
     "name": "stdout",
     "output_type": "stream",
     "text": [
      "Training Set Balanced Accuracy: 0.9988417147055341\n",
      "k-Fold Cross-Validation Balanced Accuracy: 0.5107673961671886\n"
     ]
    }
   ],
   "source": [
    "scaler = StandardScaler()\n",
    "forest = RandomForestClassifier(n_estimators = 500, max_depth=11, min_samples_split=2, min_samples_leaf=7, \n",
    "                                max_features='sqrt', max_leaf_nodes=60, random_state=5)\n",
    "val_acc_scores = []\n",
    "trn_acc_scores = []\n",
    "\n",
    "for train_index, val_index in kf.split(X_train):\n",
    "    x_trn, x_val = X_train.iloc[train_index,:], X_train.iloc[val_index,:]\n",
    "    y_trn, y_val = y_train.iloc[train_index], y_train.iloc[val_index]\n",
    "    \n",
    "    scaler.fit(x_trn)\n",
    "    x_trn = scaler.transform(x_trn)\n",
    "    x_val = scaler.transform(x_val)\n",
    "    \n",
    "    forest.fit(x_trn, y_trn)\n",
    "    val_pred_values = forest.predict(x_val)\n",
    "    trn_pred_values = forest.predict(x_trn)\n",
    "    \n",
    "    acc = balanced_accuracy_score(np.ravel(y_val), val_pred_values)\n",
    "    val_acc_scores.append(acc)  \n",
    "    \n",
    "    acc = balanced_accuracy_score(np.ravel(y_trn), trn_pred_values)\n",
    "    trn_acc_scores.append(acc)\n",
    "\n",
    "val_avg_acc = sum(val_acc_scores) / kf.get_n_splits(X_train)\n",
    "trn_avg_acc = sum(trn_acc_scores) / kf.get_n_splits(X_train)\n",
    "\n",
    "print('Training Set Balanced Accuracy: ' + str(trn_avg_acc))\n",
    "print('k-Fold Cross-Validation Balanced Accuracy: ' + str(val_avg_acc))"
   ]
  },
  {
   "cell_type": "markdown",
   "metadata": {},
   "source": [
    "**Best k-Fold CV Bal. Acc. (Training Set Bal. Acc.):** 0.5113614026561302 (0.9988417147055341)\n",
    "\n",
    "**Feature Scale Function:** MinMaxScaler()\n",
    "\n",
    "**Hyperparameters:** n_estimators=500, max_depth=11, min_samples_split=2, min_samples_leaf=7, max_features='sqrt', max_leaf_nodes=60"
   ]
  },
  {
   "cell_type": "markdown",
   "metadata": {},
   "source": [
    "<h3>1.2: Feature Extraction by PCA</h3>"
   ]
  },
  {
   "cell_type": "code",
   "execution_count": 44,
   "metadata": {},
   "outputs": [],
   "source": [
    "# Feature Scaling:\n",
    "# - MinMaxScaler()\n",
    "# - StandardScaler()"
   ]
  },
  {
   "cell_type": "code",
   "execution_count": 27,
   "metadata": {},
   "outputs": [],
   "source": [
    "best_cv_score = 0\n",
    "best_params = dict()\n",
    "best_n_components = 0\n",
    "\n",
    "scaler = StandardScaler()\n",
    "components = [2, 3, 4, 5, 6, 7, 8, 9, 10]\n",
    "parameters = dict(n_estimators=np.arange(100, 1001, 100), max_depth=np.arange(5,16,1), min_samples_split=np.arange(2,6,1), \n",
    "                     min_samples_leaf=np.arange(1,16,1), max_features=['auto','sqrt','log2'], max_leaf_nodes=np.arange(2,48,3))\n",
    "\n",
    "for i in range(len(components)):\n",
    "    pca = PCA(n_components=components[i], random_state=5)\n",
    "    forest = RandomForestClassifier(n_jobs=-1, random_state=5)\n",
    "    \n",
    "    search = RandomizedSearchCV(estimator=forest, param_distributions=parameters, n_iter=50, scoring='balanced_accuracy', \n",
    "                            n_jobs=-1, cv=kf, random_state=5)\n",
    "    \n",
    "    pipeline = Pipeline(steps=[('scale', scaler), ('pca', pca), ('search', search)])\n",
    "    pipeline.fit(X_train, y_train)\n",
    "    \n",
    "    if(search.best_score_ > best_cv_score):\n",
    "        best_cv_score = search.best_score_\n",
    "        best_params = search.best_params_\n",
    "        best_n_components = components[i]"
   ]
  },
  {
   "cell_type": "code",
   "execution_count": 28,
   "metadata": {},
   "outputs": [
    {
     "data": {
      "text/plain": [
       "{'n_estimators': 600,\n",
       " 'min_samples_split': 2,\n",
       " 'min_samples_leaf': 11,\n",
       " 'max_leaf_nodes': 47,\n",
       " 'max_features': 'auto',\n",
       " 'max_depth': 9}"
      ]
     },
     "execution_count": 28,
     "metadata": {},
     "output_type": "execute_result"
    }
   ],
   "source": [
    "best_params"
   ]
  },
  {
   "cell_type": "code",
   "execution_count": 29,
   "metadata": {},
   "outputs": [
    {
     "data": {
      "text/plain": [
       "3"
      ]
     },
     "execution_count": 29,
     "metadata": {},
     "output_type": "execute_result"
    }
   ],
   "source": [
    "best_n_components"
   ]
  },
  {
   "cell_type": "code",
   "execution_count": 31,
   "metadata": {},
   "outputs": [
    {
     "name": "stdout",
     "output_type": "stream",
     "text": [
      "Training Set Balanced Accuracy: 0.7546154425843684\n",
      "k-Fold Cross-Validation Balanced Accuracy: 0.517180114790541\n"
     ]
    }
   ],
   "source": [
    "scaler = StandardScaler()\n",
    "forest = RandomForestClassifier(n_estimators = 600, max_depth=9, min_samples_split=2, min_samples_leaf=11, \n",
    "                                max_features='auto', max_leaf_nodes=47, random_state=5)\n",
    "\n",
    "pca = PCA(n_components=3, random_state=5)\n",
    "val_acc_scores = []\n",
    "trn_acc_scores = []\n",
    "\n",
    "for train_index, val_index in kf.split(X_train):\n",
    "    x_trn, x_val = X_train.iloc[train_index,:], X_train.iloc[val_index,:]\n",
    "    y_trn, y_val = y_train.iloc[train_index], y_train.iloc[val_index]\n",
    "    \n",
    "    scaler.fit(x_trn)\n",
    "    x_trn = scaler.transform(x_trn)\n",
    "    x_val = scaler.transform(x_val)\n",
    "    \n",
    "    pca.fit(x_trn, y_trn)\n",
    "    PCA_x_trn = pca.transform(x_trn)\n",
    "    PCA_x_val = pca.transform(x_val)\n",
    "    \n",
    "    forest.fit(PCA_x_trn, y_trn)\n",
    "    val_pred_values = forest.predict(PCA_x_val)\n",
    "    trn_pred_values = forest.predict(PCA_x_trn)\n",
    "    \n",
    "    acc = balanced_accuracy_score(np.ravel(y_val), val_pred_values)\n",
    "    val_acc_scores.append(acc)\n",
    "    \n",
    "    acc = balanced_accuracy_score(np.ravel(y_trn), trn_pred_values)\n",
    "    trn_acc_scores.append(acc)\n",
    "    \n",
    "val_avg_acc = sum(val_acc_scores) / kf.get_n_splits(X_train)\n",
    "trn_avg_acc = sum(trn_acc_scores) / kf.get_n_splits(X_train)\n",
    "\n",
    "print('Training Set Balanced Accuracy: ' + str(trn_avg_acc))\n",
    "print('k-Fold Cross-Validation Balanced Accuracy: ' + str(val_avg_acc))"
   ]
  },
  {
   "cell_type": "markdown",
   "metadata": {},
   "source": [
    "**Best k-Fold CV Bal. Acc. (Training Set Bal. Acc.):** 0.517180114790541 (0.7546154425843684)\n",
    "\n",
    "**Feature Scale Function:** StandardScaler()\n",
    "\n",
    "**PCA n_components:** 3\n",
    "\n",
    "**Hyperparameters:** n_estimators=600, max_depth=9, min_samples_split=2, min_samples_leaf=11, max_features='auto', max_leaf_nodes=47"
   ]
  },
  {
   "cell_type": "markdown",
   "metadata": {},
   "source": [
    "<h3>1.3: Feature Selection by Recursive Feature Elimination</h3>"
   ]
  },
  {
   "cell_type": "code",
   "execution_count": 47,
   "metadata": {},
   "outputs": [],
   "source": [
    "# Feature Scaling:\n",
    "# - MinMaxScaler()\n",
    "# - StandardScaler()"
   ]
  },
  {
   "cell_type": "code",
   "execution_count": 32,
   "metadata": {},
   "outputs": [],
   "source": [
    "scaler = MinMaxScaler()\n",
    "# There is no cross-validation estimator for RandomForestClassifier, so to have reasonable time efficiency we will\n",
    "# only set a few hyperparameters of the random forest for RFE. We will then tune hyperparameters separately after RFE\n",
    "forest = RandomForestClassifier(n_estimators = 300, max_depth=15, max_leaf_nodes=20, random_state=5)\n",
    "\n",
    "selector = RFECV(estimator=forest, step=1, cv=kf, scoring='balanced_accuracy', n_jobs=-1)\n",
    "\n",
    "pipeline = Pipeline(steps=[('scale', scaler), ('selector', selector)])\n",
    "pipeline.fit(X_train, y_train)\n",
    "\n",
    "feat_ranks = selector.ranking_"
   ]
  },
  {
   "cell_type": "code",
   "execution_count": 33,
   "metadata": {},
   "outputs": [
    {
     "data": {
      "text/plain": [
       "['away_avg_pos_time',\n",
       " 'home_off_pen_yds',\n",
       " 'away_off_pen_yds',\n",
       " 'home_def_pen_yds',\n",
       " 'away_def_pen_yds',\n",
       " 'home_off_rush_ypc',\n",
       " 'away_off_rush_ypc',\n",
       " 'home_off_any_a',\n",
       " 'away_off_any_a',\n",
       " 'home_def_any_a',\n",
       " 'away_def_any_a',\n",
       " 'home_off_epr',\n",
       " 'away_off_epr',\n",
       " 'away_def_epr',\n",
       " 'away_off_edps',\n",
       " 'away_def_edps',\n",
       " 'home_off_edrs',\n",
       " 'away_off_edrs',\n",
       " 'away_def_edrs',\n",
       " 'home_off_int_rate',\n",
       " 'home_def_int_rate',\n",
       " 'away_def_int_rate',\n",
       " 'home_def_yppr',\n",
       " 'away_def_yppr',\n",
       " 'away_off_ypkr',\n",
       " 'away_def_ypkr',\n",
       " 'home_off_avg_sfp',\n",
       " 'away_off_avg_sfp',\n",
       " 'home_def_avg_sfp',\n",
       " 'home_off_spcr',\n",
       " 'home_def_spcr',\n",
       " 'away_def_spcr',\n",
       " 'away_def_dpcr',\n",
       " 'home_off_tdcr',\n",
       " 'away_off_tdcr',\n",
       " 'home_def_tdcr',\n",
       " 'away_off_fdcr',\n",
       " 'away_def_rze',\n",
       " 'home_def_pts_100']"
      ]
     },
     "execution_count": 33,
     "metadata": {},
     "output_type": "execute_result"
    }
   ],
   "source": [
    "sel_feat_i = np.where(feat_ranks==1)[0]\n",
    "feat_names=[]\n",
    "for i in sel_feat_i:\n",
    "    feat_names.append(X_train.columns[i])\n",
    "feat_names"
   ]
  },
  {
   "cell_type": "code",
   "execution_count": 169,
   "metadata": {},
   "outputs": [],
   "source": [
    "feat_names = ['home_off_pen_yds', 'home_def_pen_yds', 'away_def_pen_yds', 'home_off_any_a', 'home_def_int_rate', \n",
    "              'away_off_ypkr', 'away_off_avg_sfp', 'home_def_spcr', 'away_def_spcr', 'away_def_dpcr', 'home_def_pts_100']"
   ]
  },
  {
   "cell_type": "code",
   "execution_count": 170,
   "metadata": {},
   "outputs": [
    {
     "ename": "KeyboardInterrupt",
     "evalue": "",
     "output_type": "error",
     "traceback": [
      "\u001b[1;31m---------------------------------------------------------------------------\u001b[0m",
      "\u001b[1;31mKeyboardInterrupt\u001b[0m                         Traceback (most recent call last)",
      "\u001b[1;32m<ipython-input-170-55c53a5ad052>\u001b[0m in \u001b[0;36m<module>\u001b[1;34m\u001b[0m\n\u001b[0;32m     11\u001b[0m \u001b[1;33m\u001b[0m\u001b[0m\n\u001b[0;32m     12\u001b[0m \u001b[0mpipeline\u001b[0m \u001b[1;33m=\u001b[0m \u001b[0mPipeline\u001b[0m\u001b[1;33m(\u001b[0m\u001b[0msteps\u001b[0m\u001b[1;33m=\u001b[0m\u001b[1;33m[\u001b[0m\u001b[1;33m(\u001b[0m\u001b[1;34m'scale'\u001b[0m\u001b[1;33m,\u001b[0m \u001b[0mscaler\u001b[0m\u001b[1;33m)\u001b[0m\u001b[1;33m,\u001b[0m \u001b[1;33m(\u001b[0m\u001b[1;34m'search'\u001b[0m\u001b[1;33m,\u001b[0m \u001b[0msearch\u001b[0m\u001b[1;33m)\u001b[0m\u001b[1;33m]\u001b[0m\u001b[1;33m)\u001b[0m\u001b[1;33m\u001b[0m\u001b[1;33m\u001b[0m\u001b[0m\n\u001b[1;32m---> 13\u001b[1;33m \u001b[0mpipeline\u001b[0m\u001b[1;33m.\u001b[0m\u001b[0mfit\u001b[0m\u001b[1;33m(\u001b[0m\u001b[0mFS_x_train\u001b[0m\u001b[1;33m,\u001b[0m \u001b[0my_train\u001b[0m\u001b[1;33m)\u001b[0m\u001b[1;33m\u001b[0m\u001b[1;33m\u001b[0m\u001b[0m\n\u001b[0m\u001b[0;32m     14\u001b[0m \u001b[1;33m\u001b[0m\u001b[0m\n\u001b[0;32m     15\u001b[0m \u001b[0mbest_params\u001b[0m \u001b[1;33m=\u001b[0m \u001b[0msearch\u001b[0m\u001b[1;33m.\u001b[0m\u001b[0mbest_params_\u001b[0m\u001b[1;33m\u001b[0m\u001b[1;33m\u001b[0m\u001b[0m\n",
      "\u001b[1;32m~\\anaconda3\\lib\\site-packages\\sklearn\\pipeline.py\u001b[0m in \u001b[0;36mfit\u001b[1;34m(self, X, y, **fit_params)\u001b[0m\n\u001b[0;32m    333\u001b[0m             \u001b[1;32mif\u001b[0m \u001b[0mself\u001b[0m\u001b[1;33m.\u001b[0m\u001b[0m_final_estimator\u001b[0m \u001b[1;33m!=\u001b[0m \u001b[1;34m'passthrough'\u001b[0m\u001b[1;33m:\u001b[0m\u001b[1;33m\u001b[0m\u001b[1;33m\u001b[0m\u001b[0m\n\u001b[0;32m    334\u001b[0m                 \u001b[0mfit_params_last_step\u001b[0m \u001b[1;33m=\u001b[0m \u001b[0mfit_params_steps\u001b[0m\u001b[1;33m[\u001b[0m\u001b[0mself\u001b[0m\u001b[1;33m.\u001b[0m\u001b[0msteps\u001b[0m\u001b[1;33m[\u001b[0m\u001b[1;33m-\u001b[0m\u001b[1;36m1\u001b[0m\u001b[1;33m]\u001b[0m\u001b[1;33m[\u001b[0m\u001b[1;36m0\u001b[0m\u001b[1;33m]\u001b[0m\u001b[1;33m]\u001b[0m\u001b[1;33m\u001b[0m\u001b[1;33m\u001b[0m\u001b[0m\n\u001b[1;32m--> 335\u001b[1;33m                 \u001b[0mself\u001b[0m\u001b[1;33m.\u001b[0m\u001b[0m_final_estimator\u001b[0m\u001b[1;33m.\u001b[0m\u001b[0mfit\u001b[0m\u001b[1;33m(\u001b[0m\u001b[0mXt\u001b[0m\u001b[1;33m,\u001b[0m \u001b[0my\u001b[0m\u001b[1;33m,\u001b[0m \u001b[1;33m**\u001b[0m\u001b[0mfit_params_last_step\u001b[0m\u001b[1;33m)\u001b[0m\u001b[1;33m\u001b[0m\u001b[1;33m\u001b[0m\u001b[0m\n\u001b[0m\u001b[0;32m    336\u001b[0m \u001b[1;33m\u001b[0m\u001b[0m\n\u001b[0;32m    337\u001b[0m         \u001b[1;32mreturn\u001b[0m \u001b[0mself\u001b[0m\u001b[1;33m\u001b[0m\u001b[1;33m\u001b[0m\u001b[0m\n",
      "\u001b[1;32m~\\anaconda3\\lib\\site-packages\\sklearn\\utils\\validation.py\u001b[0m in \u001b[0;36minner_f\u001b[1;34m(*args, **kwargs)\u001b[0m\n\u001b[0;32m     71\u001b[0m                           FutureWarning)\n\u001b[0;32m     72\u001b[0m         \u001b[0mkwargs\u001b[0m\u001b[1;33m.\u001b[0m\u001b[0mupdate\u001b[0m\u001b[1;33m(\u001b[0m\u001b[1;33m{\u001b[0m\u001b[0mk\u001b[0m\u001b[1;33m:\u001b[0m \u001b[0marg\u001b[0m \u001b[1;32mfor\u001b[0m \u001b[0mk\u001b[0m\u001b[1;33m,\u001b[0m \u001b[0marg\u001b[0m \u001b[1;32min\u001b[0m \u001b[0mzip\u001b[0m\u001b[1;33m(\u001b[0m\u001b[0msig\u001b[0m\u001b[1;33m.\u001b[0m\u001b[0mparameters\u001b[0m\u001b[1;33m,\u001b[0m \u001b[0margs\u001b[0m\u001b[1;33m)\u001b[0m\u001b[1;33m}\u001b[0m\u001b[1;33m)\u001b[0m\u001b[1;33m\u001b[0m\u001b[1;33m\u001b[0m\u001b[0m\n\u001b[1;32m---> 73\u001b[1;33m         \u001b[1;32mreturn\u001b[0m \u001b[0mf\u001b[0m\u001b[1;33m(\u001b[0m\u001b[1;33m**\u001b[0m\u001b[0mkwargs\u001b[0m\u001b[1;33m)\u001b[0m\u001b[1;33m\u001b[0m\u001b[1;33m\u001b[0m\u001b[0m\n\u001b[0m\u001b[0;32m     74\u001b[0m     \u001b[1;32mreturn\u001b[0m \u001b[0minner_f\u001b[0m\u001b[1;33m\u001b[0m\u001b[1;33m\u001b[0m\u001b[0m\n\u001b[0;32m     75\u001b[0m \u001b[1;33m\u001b[0m\u001b[0m\n",
      "\u001b[1;32m~\\anaconda3\\lib\\site-packages\\sklearn\\model_selection\\_search.py\u001b[0m in \u001b[0;36mfit\u001b[1;34m(self, X, y, groups, **fit_params)\u001b[0m\n\u001b[0;32m    734\u001b[0m                 \u001b[1;32mreturn\u001b[0m \u001b[0mresults\u001b[0m\u001b[1;33m\u001b[0m\u001b[1;33m\u001b[0m\u001b[0m\n\u001b[0;32m    735\u001b[0m \u001b[1;33m\u001b[0m\u001b[0m\n\u001b[1;32m--> 736\u001b[1;33m             \u001b[0mself\u001b[0m\u001b[1;33m.\u001b[0m\u001b[0m_run_search\u001b[0m\u001b[1;33m(\u001b[0m\u001b[0mevaluate_candidates\u001b[0m\u001b[1;33m)\u001b[0m\u001b[1;33m\u001b[0m\u001b[1;33m\u001b[0m\u001b[0m\n\u001b[0m\u001b[0;32m    737\u001b[0m \u001b[1;33m\u001b[0m\u001b[0m\n\u001b[0;32m    738\u001b[0m         \u001b[1;31m# For multi-metric evaluation, store the best_index_, best_params_ and\u001b[0m\u001b[1;33m\u001b[0m\u001b[1;33m\u001b[0m\u001b[1;33m\u001b[0m\u001b[0m\n",
      "\u001b[1;32m~\\anaconda3\\lib\\site-packages\\sklearn\\model_selection\\_search.py\u001b[0m in \u001b[0;36m_run_search\u001b[1;34m(self, evaluate_candidates)\u001b[0m\n\u001b[0;32m   1527\u001b[0m     \u001b[1;32mdef\u001b[0m \u001b[0m_run_search\u001b[0m\u001b[1;33m(\u001b[0m\u001b[0mself\u001b[0m\u001b[1;33m,\u001b[0m \u001b[0mevaluate_candidates\u001b[0m\u001b[1;33m)\u001b[0m\u001b[1;33m:\u001b[0m\u001b[1;33m\u001b[0m\u001b[1;33m\u001b[0m\u001b[0m\n\u001b[0;32m   1528\u001b[0m         \u001b[1;34m\"\"\"Search n_iter candidates from param_distributions\"\"\"\u001b[0m\u001b[1;33m\u001b[0m\u001b[1;33m\u001b[0m\u001b[0m\n\u001b[1;32m-> 1529\u001b[1;33m         evaluate_candidates(ParameterSampler(\n\u001b[0m\u001b[0;32m   1530\u001b[0m             \u001b[0mself\u001b[0m\u001b[1;33m.\u001b[0m\u001b[0mparam_distributions\u001b[0m\u001b[1;33m,\u001b[0m \u001b[0mself\u001b[0m\u001b[1;33m.\u001b[0m\u001b[0mn_iter\u001b[0m\u001b[1;33m,\u001b[0m\u001b[1;33m\u001b[0m\u001b[1;33m\u001b[0m\u001b[0m\n\u001b[0;32m   1531\u001b[0m             random_state=self.random_state))\n",
      "\u001b[1;32m~\\anaconda3\\lib\\site-packages\\sklearn\\model_selection\\_search.py\u001b[0m in \u001b[0;36mevaluate_candidates\u001b[1;34m(candidate_params)\u001b[0m\n\u001b[0;32m    706\u001b[0m                               n_splits, n_candidates, n_candidates * n_splits))\n\u001b[0;32m    707\u001b[0m \u001b[1;33m\u001b[0m\u001b[0m\n\u001b[1;32m--> 708\u001b[1;33m                 out = parallel(delayed(_fit_and_score)(clone(base_estimator),\n\u001b[0m\u001b[0;32m    709\u001b[0m                                                        \u001b[0mX\u001b[0m\u001b[1;33m,\u001b[0m \u001b[0my\u001b[0m\u001b[1;33m,\u001b[0m\u001b[1;33m\u001b[0m\u001b[1;33m\u001b[0m\u001b[0m\n\u001b[0;32m    710\u001b[0m                                                        \u001b[0mtrain\u001b[0m\u001b[1;33m=\u001b[0m\u001b[0mtrain\u001b[0m\u001b[1;33m,\u001b[0m \u001b[0mtest\u001b[0m\u001b[1;33m=\u001b[0m\u001b[0mtest\u001b[0m\u001b[1;33m,\u001b[0m\u001b[1;33m\u001b[0m\u001b[1;33m\u001b[0m\u001b[0m\n",
      "\u001b[1;32m~\\anaconda3\\lib\\site-packages\\joblib\\parallel.py\u001b[0m in \u001b[0;36m__call__\u001b[1;34m(self, iterable)\u001b[0m\n\u001b[0;32m   1040\u001b[0m \u001b[1;33m\u001b[0m\u001b[0m\n\u001b[0;32m   1041\u001b[0m             \u001b[1;32mwith\u001b[0m \u001b[0mself\u001b[0m\u001b[1;33m.\u001b[0m\u001b[0m_backend\u001b[0m\u001b[1;33m.\u001b[0m\u001b[0mretrieval_context\u001b[0m\u001b[1;33m(\u001b[0m\u001b[1;33m)\u001b[0m\u001b[1;33m:\u001b[0m\u001b[1;33m\u001b[0m\u001b[1;33m\u001b[0m\u001b[0m\n\u001b[1;32m-> 1042\u001b[1;33m                 \u001b[0mself\u001b[0m\u001b[1;33m.\u001b[0m\u001b[0mretrieve\u001b[0m\u001b[1;33m(\u001b[0m\u001b[1;33m)\u001b[0m\u001b[1;33m\u001b[0m\u001b[1;33m\u001b[0m\u001b[0m\n\u001b[0m\u001b[0;32m   1043\u001b[0m             \u001b[1;31m# Make sure that we get a last message telling us we are done\u001b[0m\u001b[1;33m\u001b[0m\u001b[1;33m\u001b[0m\u001b[1;33m\u001b[0m\u001b[0m\n\u001b[0;32m   1044\u001b[0m             \u001b[0melapsed_time\u001b[0m \u001b[1;33m=\u001b[0m \u001b[0mtime\u001b[0m\u001b[1;33m.\u001b[0m\u001b[0mtime\u001b[0m\u001b[1;33m(\u001b[0m\u001b[1;33m)\u001b[0m \u001b[1;33m-\u001b[0m \u001b[0mself\u001b[0m\u001b[1;33m.\u001b[0m\u001b[0m_start_time\u001b[0m\u001b[1;33m\u001b[0m\u001b[1;33m\u001b[0m\u001b[0m\n",
      "\u001b[1;32m~\\anaconda3\\lib\\site-packages\\joblib\\parallel.py\u001b[0m in \u001b[0;36mretrieve\u001b[1;34m(self)\u001b[0m\n\u001b[0;32m    919\u001b[0m             \u001b[1;32mtry\u001b[0m\u001b[1;33m:\u001b[0m\u001b[1;33m\u001b[0m\u001b[1;33m\u001b[0m\u001b[0m\n\u001b[0;32m    920\u001b[0m                 \u001b[1;32mif\u001b[0m \u001b[0mgetattr\u001b[0m\u001b[1;33m(\u001b[0m\u001b[0mself\u001b[0m\u001b[1;33m.\u001b[0m\u001b[0m_backend\u001b[0m\u001b[1;33m,\u001b[0m \u001b[1;34m'supports_timeout'\u001b[0m\u001b[1;33m,\u001b[0m \u001b[1;32mFalse\u001b[0m\u001b[1;33m)\u001b[0m\u001b[1;33m:\u001b[0m\u001b[1;33m\u001b[0m\u001b[1;33m\u001b[0m\u001b[0m\n\u001b[1;32m--> 921\u001b[1;33m                     \u001b[0mself\u001b[0m\u001b[1;33m.\u001b[0m\u001b[0m_output\u001b[0m\u001b[1;33m.\u001b[0m\u001b[0mextend\u001b[0m\u001b[1;33m(\u001b[0m\u001b[0mjob\u001b[0m\u001b[1;33m.\u001b[0m\u001b[0mget\u001b[0m\u001b[1;33m(\u001b[0m\u001b[0mtimeout\u001b[0m\u001b[1;33m=\u001b[0m\u001b[0mself\u001b[0m\u001b[1;33m.\u001b[0m\u001b[0mtimeout\u001b[0m\u001b[1;33m)\u001b[0m\u001b[1;33m)\u001b[0m\u001b[1;33m\u001b[0m\u001b[1;33m\u001b[0m\u001b[0m\n\u001b[0m\u001b[0;32m    922\u001b[0m                 \u001b[1;32melse\u001b[0m\u001b[1;33m:\u001b[0m\u001b[1;33m\u001b[0m\u001b[1;33m\u001b[0m\u001b[0m\n\u001b[0;32m    923\u001b[0m                     \u001b[0mself\u001b[0m\u001b[1;33m.\u001b[0m\u001b[0m_output\u001b[0m\u001b[1;33m.\u001b[0m\u001b[0mextend\u001b[0m\u001b[1;33m(\u001b[0m\u001b[0mjob\u001b[0m\u001b[1;33m.\u001b[0m\u001b[0mget\u001b[0m\u001b[1;33m(\u001b[0m\u001b[1;33m)\u001b[0m\u001b[1;33m)\u001b[0m\u001b[1;33m\u001b[0m\u001b[1;33m\u001b[0m\u001b[0m\n",
      "\u001b[1;32m~\\anaconda3\\lib\\site-packages\\joblib\\_parallel_backends.py\u001b[0m in \u001b[0;36mwrap_future_result\u001b[1;34m(future, timeout)\u001b[0m\n\u001b[0;32m    540\u001b[0m         AsyncResults.get from multiprocessing.\"\"\"\n\u001b[0;32m    541\u001b[0m         \u001b[1;32mtry\u001b[0m\u001b[1;33m:\u001b[0m\u001b[1;33m\u001b[0m\u001b[1;33m\u001b[0m\u001b[0m\n\u001b[1;32m--> 542\u001b[1;33m             \u001b[1;32mreturn\u001b[0m \u001b[0mfuture\u001b[0m\u001b[1;33m.\u001b[0m\u001b[0mresult\u001b[0m\u001b[1;33m(\u001b[0m\u001b[0mtimeout\u001b[0m\u001b[1;33m=\u001b[0m\u001b[0mtimeout\u001b[0m\u001b[1;33m)\u001b[0m\u001b[1;33m\u001b[0m\u001b[1;33m\u001b[0m\u001b[0m\n\u001b[0m\u001b[0;32m    543\u001b[0m         \u001b[1;32mexcept\u001b[0m \u001b[0mCfTimeoutError\u001b[0m \u001b[1;32mas\u001b[0m \u001b[0me\u001b[0m\u001b[1;33m:\u001b[0m\u001b[1;33m\u001b[0m\u001b[1;33m\u001b[0m\u001b[0m\n\u001b[0;32m    544\u001b[0m             \u001b[1;32mraise\u001b[0m \u001b[0mTimeoutError\u001b[0m \u001b[1;32mfrom\u001b[0m \u001b[0me\u001b[0m\u001b[1;33m\u001b[0m\u001b[1;33m\u001b[0m\u001b[0m\n",
      "\u001b[1;32m~\\anaconda3\\lib\\concurrent\\futures\\_base.py\u001b[0m in \u001b[0;36mresult\u001b[1;34m(self, timeout)\u001b[0m\n\u001b[0;32m    432\u001b[0m                 \u001b[1;32mreturn\u001b[0m \u001b[0mself\u001b[0m\u001b[1;33m.\u001b[0m\u001b[0m__get_result\u001b[0m\u001b[1;33m(\u001b[0m\u001b[1;33m)\u001b[0m\u001b[1;33m\u001b[0m\u001b[1;33m\u001b[0m\u001b[0m\n\u001b[0;32m    433\u001b[0m \u001b[1;33m\u001b[0m\u001b[0m\n\u001b[1;32m--> 434\u001b[1;33m             \u001b[0mself\u001b[0m\u001b[1;33m.\u001b[0m\u001b[0m_condition\u001b[0m\u001b[1;33m.\u001b[0m\u001b[0mwait\u001b[0m\u001b[1;33m(\u001b[0m\u001b[0mtimeout\u001b[0m\u001b[1;33m)\u001b[0m\u001b[1;33m\u001b[0m\u001b[1;33m\u001b[0m\u001b[0m\n\u001b[0m\u001b[0;32m    435\u001b[0m \u001b[1;33m\u001b[0m\u001b[0m\n\u001b[0;32m    436\u001b[0m             \u001b[1;32mif\u001b[0m \u001b[0mself\u001b[0m\u001b[1;33m.\u001b[0m\u001b[0m_state\u001b[0m \u001b[1;32min\u001b[0m \u001b[1;33m[\u001b[0m\u001b[0mCANCELLED\u001b[0m\u001b[1;33m,\u001b[0m \u001b[0mCANCELLED_AND_NOTIFIED\u001b[0m\u001b[1;33m]\u001b[0m\u001b[1;33m:\u001b[0m\u001b[1;33m\u001b[0m\u001b[1;33m\u001b[0m\u001b[0m\n",
      "\u001b[1;32m~\\anaconda3\\lib\\threading.py\u001b[0m in \u001b[0;36mwait\u001b[1;34m(self, timeout)\u001b[0m\n\u001b[0;32m    300\u001b[0m         \u001b[1;32mtry\u001b[0m\u001b[1;33m:\u001b[0m    \u001b[1;31m# restore state no matter what (e.g., KeyboardInterrupt)\u001b[0m\u001b[1;33m\u001b[0m\u001b[1;33m\u001b[0m\u001b[0m\n\u001b[0;32m    301\u001b[0m             \u001b[1;32mif\u001b[0m \u001b[0mtimeout\u001b[0m \u001b[1;32mis\u001b[0m \u001b[1;32mNone\u001b[0m\u001b[1;33m:\u001b[0m\u001b[1;33m\u001b[0m\u001b[1;33m\u001b[0m\u001b[0m\n\u001b[1;32m--> 302\u001b[1;33m                 \u001b[0mwaiter\u001b[0m\u001b[1;33m.\u001b[0m\u001b[0macquire\u001b[0m\u001b[1;33m(\u001b[0m\u001b[1;33m)\u001b[0m\u001b[1;33m\u001b[0m\u001b[1;33m\u001b[0m\u001b[0m\n\u001b[0m\u001b[0;32m    303\u001b[0m                 \u001b[0mgotit\u001b[0m \u001b[1;33m=\u001b[0m \u001b[1;32mTrue\u001b[0m\u001b[1;33m\u001b[0m\u001b[1;33m\u001b[0m\u001b[0m\n\u001b[0;32m    304\u001b[0m             \u001b[1;32melse\u001b[0m\u001b[1;33m:\u001b[0m\u001b[1;33m\u001b[0m\u001b[1;33m\u001b[0m\u001b[0m\n",
      "\u001b[1;31mKeyboardInterrupt\u001b[0m: "
     ]
    }
   ],
   "source": [
    "FS_x_train = X_train[feat_names]\n",
    "\n",
    "scaler = MinMaxScaler()\n",
    "forest = RandomForestClassifier(n_jobs=-1, random_state=5)\n",
    "\n",
    "parameters = dict(n_estimators=np.arange(100, 1001, 100), max_depth=np.arange(5,16,1), min_samples_split=np.arange(2,6,1), \n",
    "                     min_samples_leaf=np.arange(1,16,1), max_features=['auto','sqrt','log2'], max_leaf_nodes=np.arange(2,48,3))\n",
    "\n",
    "search = RandomizedSearchCV(estimator=forest, param_distributions=parameters, n_iter=50, scoring='balanced_accuracy', \n",
    "                            n_jobs=-1, cv=kf, random_state=5)\n",
    "\n",
    "pipeline = Pipeline(steps=[('scale', scaler), ('search', search)])\n",
    "pipeline.fit(FS_x_train, y_train)\n",
    "\n",
    "best_params = search.best_params_\n",
    "best_cv_score = search.best_score_"
   ]
  },
  {
   "cell_type": "code",
   "execution_count": null,
   "metadata": {},
   "outputs": [],
   "source": [
    "best_params"
   ]
  },
  {
   "cell_type": "code",
   "execution_count": 38,
   "metadata": {},
   "outputs": [
    {
     "name": "stdout",
     "output_type": "stream",
     "text": [
      "Training Set Balanced Accuracy: 0.9416770548817418\n",
      "k-Fold Cross-Validation Balanced Accuracy: 0.5236852735248468\n"
     ]
    }
   ],
   "source": [
    "scaler = MinMaxScaler()\n",
    "forest = RandomForestClassifier(n_estimators = 400, max_depth=13, min_samples_split=5, min_samples_leaf=7, \n",
    "                                max_features='log2', max_leaf_nodes=32, random_state=5)\n",
    "FS_x_train = X_train[feat_names]\n",
    "\n",
    "val_acc_scores = []\n",
    "trn_acc_scores = []\n",
    "\n",
    "for train_index, val_index in kf.split(FS_x_train):\n",
    "    x_trn, x_val = FS_x_train.iloc[train_index,:], FS_x_train.iloc[val_index,:]\n",
    "    y_trn, y_val = y_train.iloc[train_index], y_train.iloc[val_index]\n",
    "    \n",
    "    scaler.fit(x_trn)\n",
    "    x_trn = scaler.transform(x_trn)\n",
    "    x_val = scaler.transform(x_val)\n",
    "    \n",
    "    forest.fit(x_trn, y_trn)\n",
    "    val_pred_values = forest.predict(x_val)\n",
    "    trn_pred_values = forest.predict(x_trn)\n",
    "    \n",
    "    acc = balanced_accuracy_score(np.ravel(y_val), val_pred_values)\n",
    "    val_acc_scores.append(acc)  \n",
    "    \n",
    "    acc = balanced_accuracy_score(np.ravel(y_trn), trn_pred_values)\n",
    "    trn_acc_scores.append(acc)\n",
    "\n",
    "val_avg_acc = sum(val_acc_scores) / kf.get_n_splits(FS_x_train)\n",
    "trn_avg_acc = sum(trn_acc_scores) / kf.get_n_splits(FS_x_train)\n",
    "\n",
    "print('Training Set Balanced Accuracy: ' + str(trn_avg_acc))\n",
    "print('k-Fold Cross-Validation Balanced Accuracy: ' + str(val_avg_acc))"
   ]
  },
  {
   "cell_type": "markdown",
   "metadata": {},
   "source": [
    "**Best k-Fold CV Bal. Acc. (Training Set Bal. Acc.):** 0.5236852735248468 (0.9416770548817418)\n",
    "\n",
    "**Feature Scale Function:** MinMaxScaler()\n",
    "\n",
    "**Features Selected:** ['away_avg_pos_time','home_off_pen_yds','away_off_pen_yds','home_def_pen_yds','away_def_pen_yds',\n",
    "'home_off_rush_ypc','away_off_rush_ypc','home_off_any_a','away_off_any_a','home_def_any_a','away_def_any_a','home_off_epr',\n",
    "'away_off_epr','away_def_epr','away_off_edps','away_def_edps','home_off_edrs','away_off_edrs','away_def_edrs','home_off_int_rate','home_def_int_rate','away_def_int_rate','home_def_yppr','away_def_yppr','away_off_ypkr','away_def_ypkr','home_off_avg_sfp','away_off_avg_sfp','home_def_avg_sfp','home_off_spcr','home_def_spcr','away_def_spcr','away_def_dpcr','home_off_tdcr','away_off_tdcr','home_def_tdcr','away_off_fdcr','away_def_rze','home_def_pts_100']\n",
    "\n",
    "**Hyperparameters:** n_estimators=400, max_depth=13, min_samples_split=5, min_samples_leaf=7, max_features='log2', max_leaf_nodes=32\n",
    "\n",
    "*RFECV run with forest of n_estimators=300, max_depth=15, max_leaf_nodes=20"
   ]
  },
  {
   "cell_type": "markdown",
   "metadata": {},
   "source": [
    "<h2>Model 2: Neural Network</h2>"
   ]
  },
  {
   "cell_type": "code",
   "execution_count": 70,
   "metadata": {},
   "outputs": [],
   "source": [
    "# Neural Network Regressor Hyperparameters Tuned:\n",
    "# - hidden_layer_sizes: (tuple) ith element represents the number of neurons in the ith hidden layer\n",
    "# - activation: Activation function for the hidden layer\n",
    "# - alpha: L2 penalty parameter"
   ]
  },
  {
   "cell_type": "markdown",
   "metadata": {},
   "source": [
    "<h3>2.1: No Feature Selection/Extraction</h3>"
   ]
  },
  {
   "cell_type": "code",
   "execution_count": 82,
   "metadata": {},
   "outputs": [],
   "source": [
    "# hidden_layer_sizes=[(15,),(25,),(35,),(45,),(55,),(65,),(75,),(85,),(95,),(125,),(150,),(175,),(200,)]\n",
    "# hidden_layer_sizes=[(25,45),(45,25),(25,65),(65,25),(25,85),(85,25),(45,65),(65,45),(45,85),(85,45),(65,85),\n",
    "#                     (85,65),(25,25),(45,45),(65,65),(85,85)]"
   ]
  },
  {
   "cell_type": "code",
   "execution_count": 83,
   "metadata": {},
   "outputs": [],
   "source": [
    "# Feature Scaling:\n",
    "# - MinMaxScaler()\n",
    "# - StandardScaler()"
   ]
  },
  {
   "cell_type": "code",
   "execution_count": 80,
   "metadata": {},
   "outputs": [],
   "source": [
    "scaler = StandardScaler()\n",
    "model = MLPClassifier(max_iter=500, random_state=5)\n",
    "\n",
    "parameters = dict(hidden_layer_sizes=[(15,),(25,),(35,),(45,),(55,),(65,),(75,),(85,),(95,),(125,),(150,),(175,),(200,)], \n",
    "                  activation=['identity', 'logistic', 'tanh', 'relu'], \n",
    "                  alpha=[0.0005, 0.005, 0.05, 0.5, 5])\n",
    "\n",
    "search = RandomizedSearchCV(estimator=model, param_distributions=parameters, n_iter=50, scoring='balanced_accuracy', \n",
    "                            n_jobs=-1, cv=kf, random_state=5)\n",
    "\n",
    "pipeline = Pipeline(steps=[('scale', scaler), ('search', search)])\n",
    "pipeline.fit(X_train, y_train)\n",
    "\n",
    "best_params = search.best_params_\n",
    "best_cv_score = search.best_score_"
   ]
  },
  {
   "cell_type": "code",
   "execution_count": 81,
   "metadata": {},
   "outputs": [
    {
     "data": {
      "text/plain": [
       "{'hidden_layer_sizes': (35,), 'alpha': 0.0005, 'activation': 'tanh'}"
      ]
     },
     "execution_count": 81,
     "metadata": {},
     "output_type": "execute_result"
    }
   ],
   "source": [
    "best_params"
   ]
  },
  {
   "cell_type": "code",
   "execution_count": 11,
   "metadata": {},
   "outputs": [
    {
     "name": "stdout",
     "output_type": "stream",
     "text": [
      "Training Set Balanced Accuracy: 0.7057609852179512\n",
      "k-Fold Cross-Validation Balanced Accuracy: 0.5318959286766164\n"
     ]
    }
   ],
   "source": [
    "scaler = MinMaxScaler()\n",
    "model = MLPClassifier(hidden_layer_sizes=(45,), activation= 'tanh', alpha=0.05, max_iter=500, random_state=5)\n",
    "\n",
    "val_acc_scores = []\n",
    "trn_acc_scores = []\n",
    "\n",
    "for train_index, val_index in kf.split(X_train):\n",
    "    x_trn, x_val = X_train.iloc[train_index,:], X_train.iloc[val_index,:]\n",
    "    y_trn, y_val = y_train.iloc[train_index], y_train.iloc[val_index]\n",
    "    \n",
    "    scaler.fit(x_trn)\n",
    "    x_trn = scaler.transform(x_trn)\n",
    "    x_val = scaler.transform(x_val)\n",
    "    \n",
    "    model.fit(x_trn, y_trn)\n",
    "    val_pred_values = model.predict(x_val)\n",
    "    trn_pred_values = model.predict(x_trn)\n",
    "    \n",
    "    acc = balanced_accuracy_score(np.ravel(y_val), val_pred_values)\n",
    "    val_acc_scores.append(acc)  \n",
    "    \n",
    "    acc = balanced_accuracy_score(np.ravel(y_trn), trn_pred_values)\n",
    "    trn_acc_scores.append(acc)\n",
    "\n",
    "val_avg_acc = sum(val_acc_scores) / kf.get_n_splits(X_train)\n",
    "trn_avg_acc = sum(trn_acc_scores) / kf.get_n_splits(X_train)\n",
    "\n",
    "print('Training Set Balanced Accuracy: ' + str(trn_avg_acc))\n",
    "print('k-Fold Cross-Validation Balanced Accuracy: ' + str(val_avg_acc))"
   ]
  },
  {
   "cell_type": "markdown",
   "metadata": {},
   "source": [
    "**Best k-Fold CV Bal. Acc. (Training Set Bal. Acc.):** 0.5318959286766164 (0.7057609852179512)\n",
    "\n",
    "**Feature Scale Function:** MinMaxScaler()\n",
    "\n",
    "**Hyperparameters:** hidden_layer_sizes=(45,), activation='tanh', alpha=0.05"
   ]
  },
  {
   "cell_type": "markdown",
   "metadata": {},
   "source": [
    "<h3>2.2: Feature Extraction by PCA</h3>"
   ]
  },
  {
   "cell_type": "code",
   "execution_count": 87,
   "metadata": {},
   "outputs": [],
   "source": [
    "# hidden_layer_sizes=[(15,),(25,),(35,),(45,),(55,),(65,),(75,),(85,),(95,),(125,),(150,),(175,),(200,)]\n",
    "# hidden_layer_sizes=[(25,45),(45,25),(25,65),(65,25),(25,85),(85,25),(45,65),(65,45),(45,85),(85,45),(65,85),\n",
    "#                     (85,65),(25,25),(45,45),(65,65),(85,85)]"
   ]
  },
  {
   "cell_type": "code",
   "execution_count": 94,
   "metadata": {},
   "outputs": [
    {
     "name": "stderr",
     "output_type": "stream",
     "text": [
      "C:\\Users\\Warren\\anaconda3\\lib\\site-packages\\sklearn\\neural_network\\_multilayer_perceptron.py:582: ConvergenceWarning: Stochastic Optimizer: Maximum iterations (500) reached and the optimization hasn't converged yet.\n",
      "  warnings.warn(\n"
     ]
    }
   ],
   "source": [
    "best_cv_score = 0\n",
    "best_params = dict()\n",
    "best_n_components = 0\n",
    "\n",
    "scaler = StandardScaler()\n",
    "components = [2, 3, 4, 5, 6, 7, 8, 9, 10]\n",
    "parameters = dict(hidden_layer_sizes=[(25,45),(45,25),(25,65),(65,25),(25,85),(85,25),(45,65),(65,45),(45,85),(85,45),(65,85),\n",
    "                                      (85,65),(25,25),(45,45),(65,65),(85,85)], \n",
    "                  activation=['identity', 'logistic', 'tanh', 'relu'], \n",
    "                  alpha=[0.0005, 0.005, 0.05, 0.5, 5])\n",
    "\n",
    "for i in range(len(components)):\n",
    "    pca = PCA(n_components=components[i], random_state=5)\n",
    "    model = MLPClassifier(max_iter=500, random_state=5)\n",
    "    \n",
    "    search = RandomizedSearchCV(estimator=model, param_distributions=parameters, n_iter=50, scoring='balanced_accuracy', \n",
    "                            n_jobs=-1, cv=kf, random_state=5)\n",
    "    \n",
    "    pipeline = Pipeline(steps=[('scale', scaler), ('pca', pca), ('search', search)])\n",
    "    pipeline.fit(X_train, y_train)\n",
    "    \n",
    "    if(search.best_score_ > best_cv_score):\n",
    "        best_cv_score = search.best_score_\n",
    "        best_params = search.best_params_\n",
    "        best_n_components = components[i]"
   ]
  },
  {
   "cell_type": "code",
   "execution_count": 95,
   "metadata": {},
   "outputs": [
    {
     "data": {
      "text/plain": [
       "{'hidden_layer_sizes': (25, 65), 'alpha': 0.0005, 'activation': 'relu'}"
      ]
     },
     "execution_count": 95,
     "metadata": {},
     "output_type": "execute_result"
    }
   ],
   "source": [
    "best_params"
   ]
  },
  {
   "cell_type": "code",
   "execution_count": 96,
   "metadata": {},
   "outputs": [
    {
     "data": {
      "text/plain": [
       "3"
      ]
     },
     "execution_count": 96,
     "metadata": {},
     "output_type": "execute_result"
    }
   ],
   "source": [
    "best_n_components"
   ]
  },
  {
   "cell_type": "code",
   "execution_count": 12,
   "metadata": {},
   "outputs": [
    {
     "name": "stdout",
     "output_type": "stream",
     "text": [
      "Training Set Balanced Accuracy: 0.5794543232136716\n",
      "k-Fold Cross-Validation Balanced Accuracy: 0.5431316799679766\n"
     ]
    }
   ],
   "source": [
    "scaler = StandardScaler()\n",
    "model = MLPClassifier(hidden_layer_sizes=(25,65), activation= 'relu', alpha=0.5, max_iter=1000, random_state=5)\n",
    "pca = PCA(n_components=3, random_state=5)\n",
    "\n",
    "val_acc_scores = []\n",
    "trn_acc_scores = []\n",
    "\n",
    "for train_index, val_index in kf.split(X_train):\n",
    "    x_trn, x_val = X_train.iloc[train_index,:], X_train.iloc[val_index,:]\n",
    "    y_trn, y_val = y_train.iloc[train_index], y_train.iloc[val_index]\n",
    "    \n",
    "    scaler.fit(x_trn)\n",
    "    x_trn = scaler.transform(x_trn)\n",
    "    x_val = scaler.transform(x_val)\n",
    "    \n",
    "    pca.fit(x_trn, y_trn)\n",
    "    PCA_x_trn = pca.transform(x_trn)\n",
    "    PCA_x_val = pca.transform(x_val)\n",
    "    \n",
    "    model.fit(PCA_x_trn, y_trn)\n",
    "    val_pred_values = model.predict(PCA_x_val)\n",
    "    trn_pred_values = model.predict(PCA_x_trn)\n",
    "    \n",
    "    acc = balanced_accuracy_score(np.ravel(y_val), val_pred_values)\n",
    "    val_acc_scores.append(acc)\n",
    "    \n",
    "    acc = balanced_accuracy_score(np.ravel(y_trn), trn_pred_values)\n",
    "    trn_acc_scores.append(acc)\n",
    "    \n",
    "val_avg_acc = sum(val_acc_scores) / kf.get_n_splits(X_train)\n",
    "trn_avg_acc = sum(trn_acc_scores) / kf.get_n_splits(X_train)\n",
    "\n",
    "print('Training Set Balanced Accuracy: ' + str(trn_avg_acc))\n",
    "print('k-Fold Cross-Validation Balanced Accuracy: ' + str(val_avg_acc))"
   ]
  },
  {
   "cell_type": "markdown",
   "metadata": {},
   "source": [
    "**Best k-Fold CV Bal. Acc. (Training Set Bal. Acc.):** 0.5431316799679766 (0.5794543232136716)\n",
    "\n",
    "**Feature Scale Function:** StandardScaler()\n",
    "\n",
    "**PCA n_components:** 3\n",
    "\n",
    "**Hyperparameters:** hidden_layer_sizes=(25,65), activation='relu', alpha=0.5, max_iter=1000"
   ]
  },
  {
   "cell_type": "markdown",
   "metadata": {},
   "source": [
    "<h3>2.3: Feature Selection (Features From 1.3 & 3.3)</h3>"
   ]
  },
  {
   "cell_type": "code",
   "execution_count": 110,
   "metadata": {},
   "outputs": [],
   "source": [
    "# hidden_layer_sizes=[(15,),(25,),(35,),(45,),(55,),(65,),(75,),(85,),(95,),(125,),(150,),(175,),(200,)]\n",
    "# hidden_layer_sizes=[(25,45),(45,25),(25,65),(65,25),(25,85),(85,25),(45,65),(65,45),(45,85),(85,45),(65,85),\n",
    "#                     (85,65),(25,25),(45,45),(65,65),(85,85)]"
   ]
  },
  {
   "cell_type": "code",
   "execution_count": 173,
   "metadata": {},
   "outputs": [],
   "source": [
    "# Feature Scaling:\n",
    "# - MinMaxScaler()\n",
    "# - StandardScaler()"
   ]
  },
  {
   "cell_type": "code",
   "execution_count": 174,
   "metadata": {},
   "outputs": [],
   "source": [
    "feat_names = ['divisional','Arrowhead Stadium','Caesars Superdome','Lambeau Field',\"Levi's Stadium\",'Lincoln Financial Field',\n",
    "              'Lucas Oil Stadium','Soldier Field','State Farm Stadium','home_coach Bruce Arians','home_coach Frank Reich',\n",
    "              'home_coach Kyle Shanahan','home_coach Mike McCarthy','away_coach Mike Tomlin','away_coach Sean McDermott',\n",
    "              'home_off_pen_yds','away_off_pen_yds','home_def_pen_yds','home_def_edps','home_def_edrs','away_fumbles_lost',\n",
    "              'home_def_int_rate','away_off_avg_sfp','home_def_avg_sfp','away_off_spcr','home_def_spcr','away_def_spcr',\n",
    "              'home_off_dpcr','home_def_dpcr','away_off_fdcr','home_margin_o_u']"
   ]
  },
  {
   "cell_type": "code",
   "execution_count": 189,
   "metadata": {},
   "outputs": [],
   "source": [
    "FS_x_train = X_train[feat_names]\n",
    "\n",
    "scaler = MinMaxScaler()\n",
    "model = MLPClassifier(max_iter=500, random_state=5)\n",
    "\n",
    "parameters = dict(hidden_layer_sizes=[(15,),(23,),(24,),(25,),(30,)],\n",
    "                  activation=['identity'], \n",
    "                  alpha=[0.0005, 0.005, 0.05])\n",
    "\n",
    "search = GridSearchCV(estimator=model, param_grid=parameters, scoring='balanced_accuracy', n_jobs=-1, cv=kf)\n",
    "\n",
    "pipeline = Pipeline(steps=[('scale', scaler), ('search', search)])\n",
    "pipeline.fit(FS_x_train, y_train)\n",
    "\n",
    "best_params = search.best_params_\n",
    "best_cv_score = search.best_score_"
   ]
  },
  {
   "cell_type": "code",
   "execution_count": 190,
   "metadata": {},
   "outputs": [
    {
     "data": {
      "text/plain": [
       "{'activation': 'identity', 'alpha': 0.0005, 'hidden_layer_sizes': (25,)}"
      ]
     },
     "execution_count": 190,
     "metadata": {},
     "output_type": "execute_result"
    }
   ],
   "source": [
    "best_params"
   ]
  },
  {
   "cell_type": "code",
   "execution_count": 191,
   "metadata": {},
   "outputs": [
    {
     "name": "stdout",
     "output_type": "stream",
     "text": [
      "Training Set Balanced Accuracy: 0.6110872136225007\n",
      "k-Fold Cross-Validation Balanced Accuracy: 0.5807422479622489\n"
     ]
    }
   ],
   "source": [
    "scaler = MinMaxScaler()\n",
    "model = MLPClassifier(hidden_layer_sizes=(25,), activation='identity', alpha=0.0005, max_iter=1000, random_state=5)\n",
    "\n",
    "FS_x_train = X_train[feat_names]\n",
    "\n",
    "val_acc_scores = []\n",
    "trn_acc_scores = []\n",
    "\n",
    "for train_index, val_index in kf.split(FS_x_train):\n",
    "    x_trn, x_val = FS_x_train.iloc[train_index,:], FS_x_train.iloc[val_index,:]\n",
    "    y_trn, y_val = y_train.iloc[train_index], y_train.iloc[val_index]\n",
    "    \n",
    "    scaler.fit(x_trn)\n",
    "    x_trn = scaler.transform(x_trn)\n",
    "    x_val = scaler.transform(x_val)\n",
    "    \n",
    "    model.fit(x_trn, y_trn)\n",
    "    val_pred_values = model.predict(x_val)\n",
    "    trn_pred_values = model.predict(x_trn)\n",
    "    \n",
    "    acc = balanced_accuracy_score(np.ravel(y_val), val_pred_values)\n",
    "    val_acc_scores.append(acc)  \n",
    "    \n",
    "    acc = balanced_accuracy_score(np.ravel(y_trn), trn_pred_values)\n",
    "    trn_acc_scores.append(acc)\n",
    "\n",
    "val_avg_acc = sum(val_acc_scores) / kf.get_n_splits(FS_x_train)\n",
    "trn_avg_acc = sum(trn_acc_scores) / kf.get_n_splits(FS_x_train)\n",
    "\n",
    "print('Training Set Balanced Accuracy: ' + str(trn_avg_acc))\n",
    "print('k-Fold Cross-Validation Balanced Accuracy: ' + str(val_avg_acc))"
   ]
  },
  {
   "cell_type": "markdown",
   "metadata": {},
   "source": [
    "**Best k-Fold CV Bal. Acc. (Training Set Bal. Acc.):** 0.5975189254686442 (0.6130249495604632)\n",
    "\n",
    "**Feature Scale Function:** StandardScaler()\n",
    "\n",
    "**Features Selected:** ['divisional','Arrowhead Stadium','Caesars Superdome','Lambeau Field',\"Levi's Stadium\",'Lincoln Financial Field','Lucas Oil Stadium','Soldier Field','State Farm Stadium','home_coach Bruce Arians','home_coach Frank Reich',\n",
    "'home_coach Kyle Shanahan','home_coach Mike McCarthy','away_coach Mike Tomlin','away_coach Sean McDermott',\n",
    "'home_off_pen_yds','away_off_pen_yds','home_def_pen_yds','home_def_edps','home_def_edrs','away_fumbles_lost',\n",
    "'home_def_int_rate','away_off_avg_sfp','home_def_avg_sfp','away_off_spcr','home_def_spcr','away_def_spcr',\n",
    "'home_off_dpcr','home_def_dpcr','away_off_fdcr','home_margin_o_u']\n",
    "\n",
    "**Hyperparameters:** hidden_layer_sizes=(65,), activation='identity', alpha=0.07"
   ]
  },
  {
   "cell_type": "markdown",
   "metadata": {},
   "source": [
    "<h2>Model 3: Ridge Classifier</h2>"
   ]
  },
  {
   "cell_type": "code",
   "execution_count": 138,
   "metadata": {},
   "outputs": [],
   "source": [
    "# Ridge Classifier Hyperparameters Tuned:\n",
    "# - alpha: Constant multiplied by regularization term (regularization strength)"
   ]
  },
  {
   "cell_type": "markdown",
   "metadata": {},
   "source": [
    "<h3>3.1: No Feature Selection/Extraction</h3>"
   ]
  },
  {
   "cell_type": "code",
   "execution_count": 39,
   "metadata": {},
   "outputs": [],
   "source": [
    "# Feature Scaling:\n",
    "# - MinMaxScaler()\n",
    "# - StandardScaler()"
   ]
  },
  {
   "cell_type": "code",
   "execution_count": 43,
   "metadata": {},
   "outputs": [],
   "source": [
    "scaler = StandardScaler()\n",
    "model = RidgeClassifier(random_state=5)\n",
    "\n",
    "parameters = dict(alpha=np.arange(1,101,1))\n",
    "\n",
    "search = GridSearchCV(estimator=model, param_grid=parameters, scoring='balanced_accuracy', n_jobs=-1, cv=kf)\n",
    "\n",
    "pipeline = Pipeline(steps=[('scale', scaler), ('search', search)])\n",
    "pipeline.fit(X_train, y_train)\n",
    "\n",
    "best_params = search.best_params_\n",
    "best_cv_score = search.best_score_"
   ]
  },
  {
   "cell_type": "code",
   "execution_count": 44,
   "metadata": {},
   "outputs": [
    {
     "data": {
      "text/plain": [
       "{'alpha': 99}"
      ]
     },
     "execution_count": 44,
     "metadata": {},
     "output_type": "execute_result"
    }
   ],
   "source": [
    "best_params"
   ]
  },
  {
   "cell_type": "code",
   "execution_count": 168,
   "metadata": {},
   "outputs": [
    {
     "name": "stdout",
     "output_type": "stream",
     "text": [
      "Training Set Balanced Accuracy: 0.6190701335474399\n",
      "k-Fold Cross-Validation Balanced Accuracy: 0.5043317375434575\n"
     ]
    }
   ],
   "source": [
    "scaler = MinMaxScaler()\n",
    "model = RidgeClassifier(alpha=37, random_state=5)\n",
    "\n",
    "val_acc_scores = []\n",
    "trn_acc_scores = []\n",
    "\n",
    "for train_index, val_index in kf.split(X_train):\n",
    "    x_trn, x_val = X_train.iloc[train_index,:], X_train.iloc[val_index,:]\n",
    "    y_trn, y_val = y_train.iloc[train_index], y_train.iloc[val_index]\n",
    "    \n",
    "    scaler.fit(x_trn)\n",
    "    x_trn = scaler.transform(x_trn)\n",
    "    x_val = scaler.transform(x_val)\n",
    "    \n",
    "    model.fit(x_trn, y_trn)\n",
    "    val_pred_values = model.predict(x_val)\n",
    "    trn_pred_values = model.predict(x_trn)\n",
    "    \n",
    "    acc = balanced_accuracy_score(np.ravel(y_val), val_pred_values)\n",
    "    val_acc_scores.append(acc)  \n",
    "    \n",
    "    acc = balanced_accuracy_score(np.ravel(y_trn), trn_pred_values)\n",
    "    trn_acc_scores.append(acc)\n",
    "\n",
    "val_avg_acc = sum(val_acc_scores) / kf.get_n_splits(X_train)\n",
    "trn_avg_acc = sum(trn_acc_scores) / kf.get_n_splits(X_train)\n",
    "\n",
    "print('Training Set Balanced Accuracy: ' + str(trn_avg_acc))\n",
    "print('k-Fold Cross-Validation Balanced Accuracy: ' + str(val_avg_acc))"
   ]
  },
  {
   "cell_type": "markdown",
   "metadata": {},
   "source": [
    "**Best k-Fold CV Bal. Acc. (Training Set Bal. Acc.):** 0.5043317375434575 (0.6190701335474399)\n",
    "\n",
    "**Feature Scale Function:** MinMaxScaler()\n",
    "\n",
    "**Hyperparameters:** alpha=37"
   ]
  },
  {
   "cell_type": "markdown",
   "metadata": {},
   "source": [
    "<h3>3.2: Feature Extraction by PCA</h3>"
   ]
  },
  {
   "cell_type": "code",
   "execution_count": 170,
   "metadata": {},
   "outputs": [],
   "source": [
    "# Feature Scaling:\n",
    "# - MinMaxScaler()\n",
    "# - StandardScaler()"
   ]
  },
  {
   "cell_type": "code",
   "execution_count": 50,
   "metadata": {},
   "outputs": [],
   "source": [
    "best_cv_score = 0\n",
    "best_params = dict()\n",
    "best_n_components = 0\n",
    "\n",
    "scaler = StandardScaler()\n",
    "components = [2, 3, 4, 5, 6, 7, 8, 9, 10]\n",
    "parameters = dict(alpha=[0.0005, 0.005, 0.05, 0.5, 5])\n",
    "\n",
    "for i in range(len(components)):\n",
    "    pca = PCA(n_components=components[i], random_state=5)\n",
    "    model = RidgeClassifier(random_state=5)\n",
    "    \n",
    "    search = GridSearchCV(estimator=model, param_grid=parameters, scoring='balanced_accuracy', n_jobs=-1, cv=kf)\n",
    "    \n",
    "    pipeline = Pipeline(steps=[('scale', scaler), ('pca', pca), ('search', search)])\n",
    "    pipeline.fit(X_train, y_train)\n",
    "    \n",
    "    if(search.best_score_ > best_cv_score):\n",
    "        best_cv_score = search.best_score_\n",
    "        best_params = search.best_params_\n",
    "        best_n_components = components[i]"
   ]
  },
  {
   "cell_type": "code",
   "execution_count": 51,
   "metadata": {},
   "outputs": [
    {
     "data": {
      "text/plain": [
       "{'alpha': 0.0005}"
      ]
     },
     "execution_count": 51,
     "metadata": {},
     "output_type": "execute_result"
    }
   ],
   "source": [
    "best_params"
   ]
  },
  {
   "cell_type": "code",
   "execution_count": 52,
   "metadata": {},
   "outputs": [
    {
     "data": {
      "text/plain": [
       "3"
      ]
     },
     "execution_count": 52,
     "metadata": {},
     "output_type": "execute_result"
    }
   ],
   "source": [
    "best_n_components"
   ]
  },
  {
   "cell_type": "code",
   "execution_count": 167,
   "metadata": {},
   "outputs": [
    {
     "name": "stdout",
     "output_type": "stream",
     "text": [
      "Training Set Balanced Accuracy: 0.5079025544228422\n",
      "k-Fold Cross-Validation Balanced Accuracy: 0.4995400176571462\n"
     ]
    }
   ],
   "source": [
    "scaler = MinMaxScaler()\n",
    "model = RidgeClassifier(alpha=0.0005, random_state=5)\n",
    "pca = PCA(n_components=2, random_state=5)\n",
    "\n",
    "val_acc_scores = []\n",
    "trn_acc_scores = []\n",
    "\n",
    "for train_index, val_index in kf.split(X_train):\n",
    "    x_trn, x_val = X_train.iloc[train_index,:], X_train.iloc[val_index,:]\n",
    "    y_trn, y_val = y_train.iloc[train_index], y_train.iloc[val_index]\n",
    "    \n",
    "    scaler.fit(x_trn)\n",
    "    x_trn = scaler.transform(x_trn)\n",
    "    x_val = scaler.transform(x_val)\n",
    "    \n",
    "    pca.fit(x_trn, y_trn)\n",
    "    PCA_x_trn = pca.transform(x_trn)\n",
    "    PCA_x_val = pca.transform(x_val)\n",
    "    \n",
    "    model.fit(PCA_x_trn, y_trn)\n",
    "    val_pred_values = model.predict(PCA_x_val)\n",
    "    trn_pred_values = model.predict(PCA_x_trn)\n",
    "    \n",
    "    acc = balanced_accuracy_score(np.ravel(y_val), val_pred_values)\n",
    "    val_acc_scores.append(acc)\n",
    "    \n",
    "    acc = balanced_accuracy_score(np.ravel(y_trn), trn_pred_values)\n",
    "    trn_acc_scores.append(acc)\n",
    "    \n",
    "val_avg_acc = sum(val_acc_scores) / kf.get_n_splits(X_train)\n",
    "trn_avg_acc = sum(trn_acc_scores) / kf.get_n_splits(X_train)\n",
    "\n",
    "print('Training Set Balanced Accuracy: ' + str(trn_avg_acc))\n",
    "print('k-Fold Cross-Validation Balanced Accuracy: ' + str(val_avg_acc))"
   ]
  },
  {
   "cell_type": "markdown",
   "metadata": {},
   "source": [
    "**Best k-Fold CV Bal. Acc. (Training Set Bal. Acc.):** 0.4995400176571462 (0.5079025544228422)\n",
    "\n",
    "**Feature Scale Function:** MinMaxScaler()\n",
    "\n",
    "**PCA n_components:** 2\n",
    "\n",
    "**Hyperparameters:** alpha=0.0005"
   ]
  },
  {
   "cell_type": "markdown",
   "metadata": {},
   "source": [
    "<h3>3.3: Feature Selection by Recursive Feature Elimination</h3>"
   ]
  },
  {
   "cell_type": "code",
   "execution_count": 169,
   "metadata": {},
   "outputs": [],
   "source": [
    "# Feature Scaling:\n",
    "# - MinMaxScaler()\n",
    "# - StandardScaler()"
   ]
  },
  {
   "cell_type": "code",
   "execution_count": 154,
   "metadata": {},
   "outputs": [],
   "source": [
    "scaler = StandardScaler()\n",
    "\n",
    "modelCV = RidgeClassifierCV(alphas=[0.0005, 0.005, 0.05, 0.5, 1, 2, 5, 10, 20, 50], scoring='balanced_accuracy', cv=kf)\n",
    "\n",
    "selector = RFECV(estimator=modelCV, step=1, cv=kf, scoring='balanced_accuracy', n_jobs=-1)\n",
    "\n",
    "pipeline = Pipeline(steps=[('scale', scaler), ('selector', selector)])\n",
    "pipeline.fit(X_train, y_train)\n",
    "\n",
    "feat_ranks = selector.ranking_"
   ]
  },
  {
   "cell_type": "code",
   "execution_count": 156,
   "metadata": {},
   "outputs": [
    {
     "data": {
      "text/plain": [
       "['divisional',\n",
       " 'Arrowhead Stadium',\n",
       " 'Caesars Superdome',\n",
       " 'Lambeau Field',\n",
       " \"Levi's Stadium\",\n",
       " 'Lincoln Financial Field',\n",
       " 'Lucas Oil Stadium',\n",
       " 'Soldier Field',\n",
       " 'State Farm Stadium',\n",
       " 'home_coach Bruce Arians',\n",
       " 'home_coach Frank Reich',\n",
       " 'home_coach Kyle Shanahan',\n",
       " 'home_coach Mike McCarthy',\n",
       " 'away_coach Mike Tomlin',\n",
       " 'away_coach Sean McDermott',\n",
       " 'home_off_pen_yds',\n",
       " 'away_off_pen_yds',\n",
       " 'home_def_pen_yds',\n",
       " 'home_def_edps',\n",
       " 'home_def_edrs',\n",
       " 'away_fumbles_lost',\n",
       " 'home_def_int_rate',\n",
       " 'away_off_avg_sfp',\n",
       " 'home_def_avg_sfp',\n",
       " 'away_off_spcr',\n",
       " 'home_def_spcr',\n",
       " 'away_def_spcr',\n",
       " 'home_off_dpcr',\n",
       " 'home_def_dpcr',\n",
       " 'away_off_fdcr',\n",
       " 'home_margin_o_u']"
      ]
     },
     "execution_count": 156,
     "metadata": {},
     "output_type": "execute_result"
    }
   ],
   "source": [
    "sel_feat_i = np.where(feat_ranks==1)[0]\n",
    "feat_names=[]\n",
    "for i in sel_feat_i:\n",
    "    feat_names.append(X_train.columns[i])\n",
    "feat_names"
   ]
  },
  {
   "cell_type": "code",
   "execution_count": 157,
   "metadata": {},
   "outputs": [],
   "source": [
    "feat_names = ['divisional','Arrowhead Stadium','Caesars Superdome','Lambeau Field',\"Levi's Stadium\",'Lincoln Financial Field',\n",
    "              'Lucas Oil Stadium','Soldier Field','State Farm Stadium','home_coach Bruce Arians','home_coach Frank Reich',\n",
    "              'home_coach Kyle Shanahan','home_coach Mike McCarthy','away_coach Mike Tomlin','away_coach Sean McDermott',\n",
    "              'home_off_pen_yds','away_off_pen_yds','home_def_pen_yds','home_def_edps','home_def_edrs','away_fumbles_lost',\n",
    "              'home_def_int_rate','away_off_avg_sfp','home_def_avg_sfp','away_off_spcr','home_def_spcr','away_def_spcr',\n",
    "              'home_off_dpcr','home_def_dpcr','away_off_fdcr','home_margin_o_u']"
   ]
  },
  {
   "cell_type": "code",
   "execution_count": 158,
   "metadata": {},
   "outputs": [],
   "source": [
    "FS_x_train = X_train[feat_names]\n",
    "\n",
    "scaler = StandardScaler()\n",
    "model = RidgeClassifier(random_state=5)\n",
    "\n",
    "parameters = dict(alpha=np.arange(1,51,0.5))\n",
    "\n",
    "search = GridSearchCV(estimator=model, param_grid=parameters, scoring='balanced_accuracy', n_jobs=-1, cv=kf)\n",
    "\n",
    "pipeline = Pipeline(steps=[('scale', scaler), ('search', search)])\n",
    "pipeline.fit(FS_x_train, y_train)\n",
    "\n",
    "best_params = search.best_params_\n",
    "best_cv_score = search.best_score_"
   ]
  },
  {
   "cell_type": "code",
   "execution_count": 159,
   "metadata": {},
   "outputs": [
    {
     "data": {
      "text/plain": [
       "{'alpha': 1.0}"
      ]
     },
     "execution_count": 159,
     "metadata": {},
     "output_type": "execute_result"
    }
   ],
   "source": [
    "best_params"
   ]
  },
  {
   "cell_type": "code",
   "execution_count": 162,
   "metadata": {},
   "outputs": [
    {
     "name": "stdout",
     "output_type": "stream",
     "text": [
      "Training Set Balanced Accuracy: 0.6143617241935808\n",
      "k-Fold Cross-Validation Balanced Accuracy: 0.592708803410247\n"
     ]
    }
   ],
   "source": [
    "scaler = StandardScaler()\n",
    "model = RidgeClassifier(alpha=2.0, random_state=5)\n",
    "\n",
    "FS_x_train = X_train[feat_names]\n",
    "\n",
    "val_acc_scores = []\n",
    "trn_acc_scores = []\n",
    "\n",
    "for train_index, val_index in kf.split(FS_x_train):\n",
    "    x_trn, x_val = FS_x_train.iloc[train_index,:], FS_x_train.iloc[val_index,:]\n",
    "    y_trn, y_val = y_train.iloc[train_index], y_train.iloc[val_index]\n",
    "    \n",
    "    scaler.fit(x_trn)\n",
    "    x_trn = scaler.transform(x_trn)\n",
    "    x_val = scaler.transform(x_val)\n",
    "    \n",
    "    model.fit(x_trn, y_trn)\n",
    "    val_pred_values = model.predict(x_val)\n",
    "    trn_pred_values = model.predict(x_trn)\n",
    "    \n",
    "    acc = balanced_accuracy_score(np.ravel(y_val), val_pred_values)\n",
    "    val_acc_scores.append(acc)  \n",
    "    \n",
    "    acc = balanced_accuracy_score(np.ravel(y_trn), trn_pred_values)\n",
    "    trn_acc_scores.append(acc)\n",
    "\n",
    "val_avg_acc = sum(val_acc_scores) / kf.get_n_splits(FS_x_train)\n",
    "trn_avg_acc = sum(trn_acc_scores) / kf.get_n_splits(FS_x_train)\n",
    "\n",
    "print('Training Set Balanced Accuracy: ' + str(trn_avg_acc))\n",
    "print('k-Fold Cross-Validation Balanced Accuracy: ' + str(val_avg_acc))"
   ]
  },
  {
   "cell_type": "markdown",
   "metadata": {},
   "source": [
    "**Best k-Fold CV Bal. Acc. (Training Set Bal. Acc.):** 0.592708803410247 (0.6143617241935808)\n",
    "\n",
    "**Feature Scale Function:** StandardScaler()\n",
    "\n",
    "**Features Selected:** ['divisional','Arrowhead Stadium','Caesars Superdome','Lambeau Field',\"Levi's Stadium\",'Lincoln Financial Field','Lucas Oil Stadium','Soldier Field','State Farm Stadium','home_coach Bruce Arians','home_coach Frank Reich',\n",
    "'home_coach Kyle Shanahan','home_coach Mike McCarthy','away_coach Mike Tomlin','away_coach Sean McDermott',\n",
    "'home_off_pen_yds','away_off_pen_yds','home_def_pen_yds','home_def_edps','home_def_edrs','away_fumbles_lost',\n",
    "'home_def_int_rate','away_off_avg_sfp','home_def_avg_sfp','away_off_spcr','home_def_spcr','away_def_spcr',\n",
    "'home_off_dpcr','home_def_dpcr','away_off_fdcr','home_margin_o_u']\n",
    "\n",
    "**Hyperparameters:** alpha=2.0"
   ]
  },
  {
   "cell_type": "markdown",
   "metadata": {},
   "source": [
    "<h2>Model 4: SGD Classifier with L1 Regularization (Lasso)</h2>"
   ]
  },
  {
   "cell_type": "code",
   "execution_count": 95,
   "metadata": {},
   "outputs": [],
   "source": [
    "# SGD Classifier Hyperparameters Tuned:\n",
    "# - alpha: Constant multiplied by regularization term (regularization strength)"
   ]
  },
  {
   "cell_type": "markdown",
   "metadata": {},
   "source": [
    "<h3>4.1: No Feature Selection/Extraction</h3>"
   ]
  },
  {
   "cell_type": "code",
   "execution_count": 96,
   "metadata": {},
   "outputs": [],
   "source": [
    "# Feature Scaling:\n",
    "# - MinMaxScaler()\n",
    "# - StandardScaler()"
   ]
  },
  {
   "cell_type": "code",
   "execution_count": 103,
   "metadata": {},
   "outputs": [],
   "source": [
    "scaler = MinMaxScaler()\n",
    "model = SGDClassifier(penalty='l1', random_state=5)\n",
    "\n",
    "parameters = dict(alpha=[0.0005, 0.005, 0.05, 0.5, 1])\n",
    "\n",
    "search = GridSearchCV(estimator=model, param_grid=parameters, scoring='balanced_accuracy', n_jobs=-1, cv=kf)\n",
    "\n",
    "pipeline = Pipeline(steps=[('scale', scaler), ('search', search)])\n",
    "pipeline.fit(X_train, y_train)\n",
    "\n",
    "best_params = search.best_params_\n",
    "best_cv_score = search.best_score_"
   ]
  },
  {
   "cell_type": "code",
   "execution_count": 104,
   "metadata": {},
   "outputs": [
    {
     "data": {
      "text/plain": [
       "{'alpha': 0.0005}"
      ]
     },
     "execution_count": 104,
     "metadata": {},
     "output_type": "execute_result"
    }
   ],
   "source": [
    "best_params"
   ]
  },
  {
   "cell_type": "code",
   "execution_count": 105,
   "metadata": {},
   "outputs": [
    {
     "name": "stdout",
     "output_type": "stream",
     "text": [
      "Training Set Balanced Accuracy: 0.6416080321952723\n",
      "k-Fold Cross-Validation Balanced Accuracy: 0.5171466664969929\n"
     ]
    }
   ],
   "source": [
    "scaler = MinMaxScaler()\n",
    "model = SGDClassifier(penalty='l1', alpha=0.0005, random_state=5)\n",
    "\n",
    "val_acc_scores = []\n",
    "trn_acc_scores = []\n",
    "\n",
    "for train_index, val_index in kf.split(X_train):\n",
    "    x_trn, x_val = X_train.iloc[train_index,:], X_train.iloc[val_index,:]\n",
    "    y_trn, y_val = y_train.iloc[train_index], y_train.iloc[val_index]\n",
    "    \n",
    "    scaler.fit(x_trn)\n",
    "    x_trn = scaler.transform(x_trn)\n",
    "    x_val = scaler.transform(x_val)\n",
    "    \n",
    "    model.fit(x_trn, y_trn)\n",
    "    val_pred_values = model.predict(x_val)\n",
    "    trn_pred_values = model.predict(x_trn)\n",
    "    \n",
    "    acc = balanced_accuracy_score(np.ravel(y_val), val_pred_values)\n",
    "    val_acc_scores.append(acc)  \n",
    "    \n",
    "    acc = balanced_accuracy_score(np.ravel(y_trn), trn_pred_values)\n",
    "    trn_acc_scores.append(acc)\n",
    "\n",
    "val_avg_acc = sum(val_acc_scores) / kf.get_n_splits(X_train)\n",
    "trn_avg_acc = sum(trn_acc_scores) / kf.get_n_splits(X_train)\n",
    "\n",
    "print('Training Set Balanced Accuracy: ' + str(trn_avg_acc))\n",
    "print('k-Fold Cross-Validation Balanced Accuracy: ' + str(val_avg_acc))"
   ]
  },
  {
   "cell_type": "markdown",
   "metadata": {},
   "source": [
    "**Best k-Fold CV Bal. Acc. (Training Set Bal. Acc.):** 0.5171466664969929 (0.6416080321952723)\n",
    "\n",
    "**Feature Scale Function:** MinMaxScaler()\n",
    "\n",
    "**Hyperparameters:** alpha=0.0005"
   ]
  },
  {
   "cell_type": "markdown",
   "metadata": {},
   "source": [
    "<h3>4.2: Feature Extraction by PCA</h3>"
   ]
  },
  {
   "cell_type": "code",
   "execution_count": 110,
   "metadata": {},
   "outputs": [],
   "source": [
    "# Feature Scaling:\n",
    "# - MinMaxScaler()\n",
    "# - StandardScaler()"
   ]
  },
  {
   "cell_type": "code",
   "execution_count": 111,
   "metadata": {},
   "outputs": [],
   "source": [
    "best_cv_score = 0\n",
    "best_params = dict()\n",
    "best_n_components = 0\n",
    "\n",
    "scaler = MinMaxScaler()\n",
    "components = [2, 3, 4, 5, 6, 7, 8, 9, 10]\n",
    "parameters = dict(alpha=[0.0001, 0.0002, 0.0003, 0.0004, 0.0005])\n",
    "\n",
    "for i in range(len(components)):\n",
    "    pca = PCA(n_components=components[i], random_state=5)\n",
    "    model = SGDClassifier(penalty='l1', random_state=5)\n",
    "    \n",
    "    search = GridSearchCV(estimator=model, param_grid=parameters, scoring='balanced_accuracy', n_jobs=-1, cv=kf)\n",
    "    \n",
    "    pipeline = Pipeline(steps=[('scale', scaler), ('pca', pca), ('search', search)])\n",
    "    pipeline.fit(X_train, y_train)\n",
    "    \n",
    "    if(search.best_score_ > best_cv_score):\n",
    "        best_cv_score = search.best_score_\n",
    "        best_params = search.best_params_\n",
    "        best_n_components = components[i]"
   ]
  },
  {
   "cell_type": "code",
   "execution_count": 112,
   "metadata": {},
   "outputs": [
    {
     "data": {
      "text/plain": [
       "{'alpha': 0.0001}"
      ]
     },
     "execution_count": 112,
     "metadata": {},
     "output_type": "execute_result"
    }
   ],
   "source": [
    "best_params"
   ]
  },
  {
   "cell_type": "code",
   "execution_count": 113,
   "metadata": {},
   "outputs": [
    {
     "data": {
      "text/plain": [
       "6"
      ]
     },
     "execution_count": 113,
     "metadata": {},
     "output_type": "execute_result"
    }
   ],
   "source": [
    "best_n_components"
   ]
  },
  {
   "cell_type": "code",
   "execution_count": 114,
   "metadata": {},
   "outputs": [
    {
     "name": "stdout",
     "output_type": "stream",
     "text": [
      "Training Set Balanced Accuracy: 0.5066455036710912\n",
      "k-Fold Cross-Validation Balanced Accuracy: 0.5100269116478676\n"
     ]
    }
   ],
   "source": [
    "scaler = MinMaxScaler()\n",
    "model = SGDClassifier(penalty='l1', alpha=0.0001, random_state=5)\n",
    "pca = PCA(n_components=6, random_state=5)\n",
    "\n",
    "val_acc_scores = []\n",
    "trn_acc_scores = []\n",
    "\n",
    "for train_index, val_index in kf.split(X_train):\n",
    "    x_trn, x_val = X_train.iloc[train_index,:], X_train.iloc[val_index,:]\n",
    "    y_trn, y_val = y_train.iloc[train_index], y_train.iloc[val_index]\n",
    "    \n",
    "    scaler.fit(x_trn)\n",
    "    x_trn = scaler.transform(x_trn)\n",
    "    x_val = scaler.transform(x_val)\n",
    "    \n",
    "    pca.fit(x_trn, y_trn)\n",
    "    PCA_x_trn = pca.transform(x_trn)\n",
    "    PCA_x_val = pca.transform(x_val)\n",
    "    \n",
    "    model.fit(PCA_x_trn, y_trn)\n",
    "    val_pred_values = model.predict(PCA_x_val)\n",
    "    trn_pred_values = model.predict(PCA_x_trn)\n",
    "    \n",
    "    acc = balanced_accuracy_score(np.ravel(y_val), val_pred_values)\n",
    "    val_acc_scores.append(acc)\n",
    "    \n",
    "    acc = balanced_accuracy_score(np.ravel(y_trn), trn_pred_values)\n",
    "    trn_acc_scores.append(acc)\n",
    "    \n",
    "val_avg_acc = sum(val_acc_scores) / kf.get_n_splits(X_train)\n",
    "trn_avg_acc = sum(trn_acc_scores) / kf.get_n_splits(X_train)\n",
    "\n",
    "print('Training Set Balanced Accuracy: ' + str(trn_avg_acc))\n",
    "print('k-Fold Cross-Validation Balanced Accuracy: ' + str(val_avg_acc))"
   ]
  },
  {
   "cell_type": "markdown",
   "metadata": {},
   "source": [
    "**Best k-Fold CV Bal. Acc. (Training Set Bal. Acc.):** 0.5100269116478676 (0.5066455036710912)\n",
    "\n",
    "**Feature Scale Function:** MinMaxScaler()\n",
    "\n",
    "**PCA n_components:** 6\n",
    "\n",
    "**Hyperparameters:** alpha=0.0001"
   ]
  },
  {
   "cell_type": "markdown",
   "metadata": {},
   "source": [
    "<h3>4.3: Feature Selection by Recursive Feature Elimination</h3>"
   ]
  },
  {
   "cell_type": "code",
   "execution_count": 115,
   "metadata": {},
   "outputs": [],
   "source": [
    "# Feature Scaling:\n",
    "# - MinMaxScaler()\n",
    "# - StandardScaler()"
   ]
  },
  {
   "cell_type": "code",
   "execution_count": 116,
   "metadata": {},
   "outputs": [],
   "source": [
    "scaler = StandardScaler()\n",
    "# There is no cross-validation estimator for SGDClassifier\n",
    "model = SGDClassifier(penalty='l1', alpha=0.001, random_state=5)\n",
    "\n",
    "selector = RFECV(estimator=model, step=1, cv=kf, scoring='balanced_accuracy', n_jobs=-1)\n",
    "\n",
    "pipeline = Pipeline(steps=[('scale', scaler), ('selector', selector)])\n",
    "pipeline.fit(X_train, y_train)\n",
    "\n",
    "feat_ranks = selector.ranking_"
   ]
  },
  {
   "cell_type": "code",
   "execution_count": 118,
   "metadata": {},
   "outputs": [],
   "source": [
    "sel_feat_i = np.where(feat_ranks==1)[0]\n",
    "feat_names=[]\n",
    "for i in sel_feat_i:\n",
    "    feat_names.append(X_train.columns[i])"
   ]
  },
  {
   "cell_type": "code",
   "execution_count": 133,
   "metadata": {},
   "outputs": [],
   "source": [
    "# remove head coaches and stadiums no longer relevant\n",
    "feat_names_1=['AT&T Stadium','Allegiant Stadium','Arrowhead Stadium','Azteca Stadium','Bank of America Stadium',\n",
    "              'Caesars Superdome','Empower Field at Mile High','FedExField','FirstEnergy Stadium','Ford Field',\n",
    "              'Gillette Stadium','Hard Rock Stadium','Heinz Field','Highmark Stadium','Lambeau Field',\"Levi's Stadium\",\n",
    "              'Lincoln Financial Field','Lumen Field','M&T Bank Stadium','Mercedes-Benz Stadium','MetLife Stadium',\n",
    "              'NRG Stadium','Nissan Stadium','Paul Brown Stadium','Raymond James Stadium','SoFi Stadium','Soldier Field',\n",
    "              'State Farm Stadium','TIAA Bank Field','Tottenham Stadium','Twickenham Stadium','U.S. Bank Stadium',\n",
    "              'Wembley Stadium','temp','humidity','wind_speed','home_coach Andy Reid','home_coach Arthur Smith',\n",
    "              'home_coach Bill Belichick','home_coach Brandon Staley','home_coach Bruce Arians','home_coach Dan Campbell',\n",
    "              'home_coach Frank Reich','home_coach John Harbaugh','home_coach Kevin Stefanski','home_coach Kliff Kingsbury',\n",
    "              'home_coach Matt Rhule','home_coach Mike Vrabel','home_coach Mike Zimmer','home_coach Nick Sirianni',\n",
    "              'home_coach Ron Rivera','home_coach Sean McDermott','home_coach Sean McVay','home_coach Sean Payton',\n",
    "              'home_coach Zac Taylor','away_coach Bill Belichick','away_coach Brandon Staley','away_coach Brian Flores',\n",
    "              'away_coach Bruce Arians','away_coach Joe Judge','away_coach John Harbaugh','away_coach Kliff Kingsbury',\n",
    "              'away_coach Matt LaFleur','away_coach Matt Nagy','away_coach Matt Rhule','away_coach Mike McCarthy',\n",
    "              'away_coach Mike Tomlin','away_coach Mike Zimmer','away_coach Nick Sirianni','away_coach Pete Carroll',\n",
    "              'away_coach Robert Saleh','away_coach Ron Rivera','away_coach Sean McDermott','away_coach Sean McVay',\n",
    "              'away_coach Vic Fangio','away_coach Zac Taylor','away_avg_pos_time','home_PAT','away_PAT','home_FG_49',\n",
    "              'away_FG_49','away_FG_50','home_yds_per_punt','away_yds_per_punt','away_punts_in_20','home_off_pen_yds',\n",
    "              'away_off_pen_yds','home_def_pen_yds','away_def_pen_yds','home_off_rush_ypc','home_def_rush_ypc',\n",
    "              'away_def_rush_ypc','home_off_any_a','away_off_any_a','away_def_any_a','away_off_epr','home_def_epr',\n",
    "              'away_def_epr','home_off_edps','away_off_edps','away_def_edps','home_off_edrs','away_off_edrs','home_def_edrs',\n",
    "              'away_def_edrs','home_fumbles_lost','away_fumbles_lost','home_fumbles_taken','home_off_int_rate',\n",
    "              'home_def_int_rate','home_off_yppr','away_off_yppr','home_def_yppr','away_def_yppr','home_off_ypkr',\n",
    "              'away_off_avg_sfp','home_off_spcr','home_def_spcr','away_def_spcr','away_off_dpcr','home_def_dpcr',\n",
    "              'away_def_dpcr','home_off_tdcr','away_off_tdcr','away_def_tdcr','away_off_fdcr','home_def_fdcr','away_def_fdcr',\n",
    "              'home_off_rze','away_off_rze','away_def_rze','home_def_pts_100','away_def_pts_100','away_lw_tom',\n",
    "              'home_margin_o_u','away_margin_o_u']"
   ]
  },
  {
   "cell_type": "code",
   "execution_count": 7,
   "metadata": {},
   "outputs": [],
   "source": [
    "# Try features from 3.3\n",
    "feat_names_2=['divisional','AT&T Stadium','Allegiant Stadium','Arrowhead Stadium','Caesars Superdome','MetLife Stadium',\n",
    "             'Paul Brown Stadium','State Farm Stadium','wind_speed','home_coach Andy Reid','home_coach Bruce Arians', \n",
    "             'home_coach Kevin Stefanski','home_coach Kliff Kingsbury','home_coach Mike Vrabel','home_coach Zac Taylor', \n",
    "             'away_coach Bill Belichick','away_coach Bruce Arians','away_coach Joe Judge','away_coach Kliff Kingsbury', \n",
    "             'away_coach Mike McCarthy','away_coach Mike Tomlin','away_coach Sean McDermott','home_FG_49','away_FG_49', \n",
    "             'away_punts_in_20','home_off_pen_yds','away_off_pen_yds','home_def_pen_yds','away_def_rush_ypc','home_off_any_a',\n",
    "             'away_off_any_a','away_def_epr','home_off_edps','away_off_edps','home_def_edrs','away_fumbles_lost', \n",
    "             'home_def_int_rate','away_off_avg_sfp','away_off_spcr','home_def_spcr','away_def_spcr','away_off_dpcr', \n",
    "             'away_off_fdcr','away_def_fdcr','away_def_rze','home_def_pts_100','away_def_pts_100','away_lw_tom', \n",
    "             'home_margin_o_u','away_margin_o_u']"
   ]
  },
  {
   "cell_type": "code",
   "execution_count": 14,
   "metadata": {},
   "outputs": [],
   "source": [
    "FS_x_train = X_train[feat_names_2]\n",
    "\n",
    "scaler = MinMaxScaler()\n",
    "model = SGDClassifier(penalty='l1', random_state=5)\n",
    "\n",
    "parameters = dict(alpha=[0.0005, 0.005, 0.05, 0.5, 5, 50])\n",
    "\n",
    "search = GridSearchCV(estimator=model, param_grid=parameters, scoring='balanced_accuracy', n_jobs=-1, cv=kf)\n",
    "\n",
    "pipeline = Pipeline(steps=[('scale', scaler), ('search', search)])\n",
    "pipeline.fit(FS_x_train, y_train)\n",
    "\n",
    "best_params = search.best_params_\n",
    "best_cv_score = search.best_score_"
   ]
  },
  {
   "cell_type": "code",
   "execution_count": 15,
   "metadata": {},
   "outputs": [
    {
     "data": {
      "text/plain": [
       "{'alpha': 0.0005}"
      ]
     },
     "execution_count": 15,
     "metadata": {},
     "output_type": "execute_result"
    }
   ],
   "source": [
    "best_params"
   ]
  },
  {
   "cell_type": "code",
   "execution_count": 16,
   "metadata": {},
   "outputs": [
    {
     "name": "stdout",
     "output_type": "stream",
     "text": [
      "Training Set Balanced Accuracy: 0.6068945038837346\n",
      "k-Fold Cross-Validation Balanced Accuracy: 0.5686597669113641\n"
     ]
    }
   ],
   "source": [
    "scaler = MinMaxScaler()\n",
    "model = SGDClassifier(penalty='l1', alpha=0.0005, random_state=5)\n",
    "\n",
    "FS_x_train = X_train[feat_names_2]\n",
    "\n",
    "val_acc_scores = []\n",
    "trn_acc_scores = []\n",
    "\n",
    "for train_index, val_index in kf.split(FS_x_train):\n",
    "    x_trn, x_val = FS_x_train.iloc[train_index,:], FS_x_train.iloc[val_index,:]\n",
    "    y_trn, y_val = y_train.iloc[train_index], y_train.iloc[val_index]\n",
    "    \n",
    "    scaler.fit(x_trn)\n",
    "    x_trn = scaler.transform(x_trn)\n",
    "    x_val = scaler.transform(x_val)\n",
    "    \n",
    "    model.fit(x_trn, y_trn)\n",
    "    val_pred_values = model.predict(x_val)\n",
    "    trn_pred_values = model.predict(x_trn)\n",
    "    \n",
    "    acc = balanced_accuracy_score(np.ravel(y_val), val_pred_values)\n",
    "    val_acc_scores.append(acc)  \n",
    "    \n",
    "    acc = balanced_accuracy_score(np.ravel(y_trn), trn_pred_values)\n",
    "    trn_acc_scores.append(acc)\n",
    "\n",
    "val_avg_acc = sum(val_acc_scores) / kf.get_n_splits(FS_x_train)\n",
    "trn_avg_acc = sum(trn_acc_scores) / kf.get_n_splits(FS_x_train)\n",
    "\n",
    "print('Training Set Balanced Accuracy: ' + str(trn_avg_acc))\n",
    "print('k-Fold Cross-Validation Balanced Accuracy: ' + str(val_avg_acc))"
   ]
  },
  {
   "cell_type": "markdown",
   "metadata": {},
   "source": [
    "**Best k-Fold CV Bal. Acc. (Training Set Bal. Acc.):** 0.5686597669113641 (0.6068945038837346)\n",
    "\n",
    "**Feature Scale Function:** MinMaxScaler()\n",
    "\n",
    "**Features Selected (50):** ['divisional','AT&T Stadium','Allegiant Stadium','Arrowhead Stadium','Caesars Superdome','MetLife Stadium','Paul Brown Stadium','State Farm Stadium','wind_speed','home_coach Andy Reid','home_coach Bruce Arians', \n",
    "'home_coach Kevin Stefanski','home_coach Kliff Kingsbury','home_coach Mike Vrabel','home_coach Zac Taylor', \n",
    "'away_coach Bill Belichick','away_coach Bruce Arians','away_coach Joe Judge','away_coach Kliff Kingsbury', \n",
    "'away_coach Mike McCarthy','away_coach Mike Tomlin','away_coach Sean McDermott','home_FG_49','away_FG_49', \n",
    "'away_punts_in_20','home_off_pen_yds','away_off_pen_yds','home_def_pen_yds','away_def_rush_ypc','home_off_any_a',\n",
    "'away_off_any_a','away_def_epr','home_off_edps','away_off_edps','home_def_edrs','away_fumbles_lost', \n",
    "'home_def_int_rate','away_off_avg_sfp','away_off_spcr','home_def_spcr','away_def_spcr','away_off_dpcr', \n",
    "'away_off_fdcr','away_def_fdcr','away_def_rze','home_def_pts_100','away_def_pts_100','away_lw_tom', \n",
    "'home_margin_o_u','away_margin_o_u']\n",
    "\n",
    "**Hyperparameters:** alpha=0.0005"
   ]
  },
  {
   "cell_type": "markdown",
   "metadata": {},
   "source": [
    "<h2>Model 5: Support Vector Classification</h2>"
   ]
  },
  {
   "cell_type": "code",
   "execution_count": 17,
   "metadata": {},
   "outputs": [],
   "source": [
    "# SVC Hyperparameters Tuned:\n",
    "# - C: Regularization parameter (positive)\n",
    "# - kernel: kernel type used in algorithm {'linear', 'poly', 'rbf', 'sigmoid', 'precomputed'}"
   ]
  },
  {
   "cell_type": "markdown",
   "metadata": {},
   "source": [
    "<h3>5.1: No Feature Selection/Extraction</h3>"
   ]
  },
  {
   "cell_type": "code",
   "execution_count": 18,
   "metadata": {},
   "outputs": [],
   "source": [
    "# Feature Scaling:\n",
    "# - MinMaxScaler()\n",
    "# - StandardScaler()"
   ]
  },
  {
   "cell_type": "code",
   "execution_count": null,
   "metadata": {},
   "outputs": [],
   "source": [
    "scaler = StandardScaler()\n",
    "model = SVC(random_state=5)\n",
    "\n",
    "parameters = dict(C=[0.0005, 0.005, 0.05, 0.5, 5, 50], kernel=['linear', 'poly', 'rbf', 'sigmoid'])\n",
    "\n",
    "search = GridSearchCV(estimator=model, param_grid=parameters, scoring='balanced_accuracy', n_jobs=-1, cv=kf)\n",
    "\n",
    "pipeline = Pipeline(steps=[('scale', scaler), ('search', search)])\n",
    "pipeline.fit(X_train, y_train)\n",
    "\n",
    "best_params = search.best_params_\n",
    "best_cv_score = search.best_score_"
   ]
  },
  {
   "cell_type": "code",
   "execution_count": null,
   "metadata": {},
   "outputs": [],
   "source": [
    "best_params"
   ]
  },
  {
   "cell_type": "code",
   "execution_count": 45,
   "metadata": {},
   "outputs": [
    {
     "name": "stdout",
     "output_type": "stream",
     "text": [
      "Training Set Balanced Accuracy: 0.6058208461960946\n",
      "k-Fold Cross-Validation Balanced Accuracy: 0.541962125727186\n"
     ]
    }
   ],
   "source": [
    "scaler = MinMaxScaler()\n",
    "model = SVC(C=5, kernel='sigmoid', random_state=5)\n",
    "\n",
    "val_acc_scores = []\n",
    "trn_acc_scores = []\n",
    "\n",
    "for train_index, val_index in kf.split(X_train):\n",
    "    x_trn, x_val = X_train.iloc[train_index,:], X_train.iloc[val_index,:]\n",
    "    y_trn, y_val = y_train.iloc[train_index], y_train.iloc[val_index]\n",
    "    \n",
    "    scaler.fit(x_trn)\n",
    "    x_trn = scaler.transform(x_trn)\n",
    "    x_val = scaler.transform(x_val)\n",
    "    \n",
    "    model.fit(x_trn, y_trn)\n",
    "    val_pred_values = model.predict(x_val)\n",
    "    trn_pred_values = model.predict(x_trn)\n",
    "    \n",
    "    acc = balanced_accuracy_score(np.ravel(y_val), val_pred_values)\n",
    "    val_acc_scores.append(acc)  \n",
    "    \n",
    "    acc = balanced_accuracy_score(np.ravel(y_trn), trn_pred_values)\n",
    "    trn_acc_scores.append(acc)\n",
    "\n",
    "val_avg_acc = sum(val_acc_scores) / kf.get_n_splits(X_train)\n",
    "trn_avg_acc = sum(trn_acc_scores) / kf.get_n_splits(X_train)\n",
    "\n",
    "print('Training Set Balanced Accuracy: ' + str(trn_avg_acc))\n",
    "print('k-Fold Cross-Validation Balanced Accuracy: ' + str(val_avg_acc))"
   ]
  },
  {
   "cell_type": "markdown",
   "metadata": {},
   "source": [
    "**Best k-Fold CV Bal. Acc. (Training Set Bal. Acc.):** 0.541962125727186 (0.6058208461960946)\n",
    "\n",
    "**Feature Scale Function:** MinMaxScaler()\n",
    "\n",
    "**Hyperparameters:** C=5, kernel='sigmoid'"
   ]
  },
  {
   "cell_type": "markdown",
   "metadata": {},
   "source": [
    "<h3>5.2: Feature Extraction by PCA</h3>"
   ]
  },
  {
   "cell_type": "code",
   "execution_count": 44,
   "metadata": {},
   "outputs": [],
   "source": [
    "# Feature Scaling:\n",
    "# - MinMaxScaler()\n",
    "# - StandardScaler()"
   ]
  },
  {
   "cell_type": "code",
   "execution_count": 236,
   "metadata": {},
   "outputs": [],
   "source": [
    "best_cv_score = 0\n",
    "best_params = dict()\n",
    "best_n_components = 0\n",
    "\n",
    "scaler = StandardScaler()\n",
    "components = [2, 3, 4, 5, 6, 7, 8, 9, 10]\n",
    "parameters = dict(C=[0.0005, 0.005, 0.05, 0.5, 5, 50], kernel=['linear', 'poly', 'rbf', 'sigmoid'])\n",
    "\n",
    "for i in range(len(components)):\n",
    "    pca = PCA(n_components=components[i], random_state=5)\n",
    "    model = SVC(random_state=5)\n",
    "    \n",
    "    search = GridSearchCV(estimator=model, param_grid=parameters, scoring='balanced_accuracy', n_jobs=-1, cv=kf)\n",
    "    \n",
    "    pipeline = Pipeline(steps=[('scale', scaler), ('pca', pca), ('search', search)])\n",
    "    pipeline.fit(X_train, y_train)\n",
    "    \n",
    "    if(search.best_score_ > best_cv_score):\n",
    "        best_cv_score = search.best_score_\n",
    "        best_params = search.best_params_\n",
    "        best_n_components = components[i]"
   ]
  },
  {
   "cell_type": "code",
   "execution_count": 237,
   "metadata": {},
   "outputs": [
    {
     "data": {
      "text/plain": [
       "{'C': 0.5, 'kernel': 'rbf'}"
      ]
     },
     "execution_count": 237,
     "metadata": {},
     "output_type": "execute_result"
    }
   ],
   "source": [
    "best_params"
   ]
  },
  {
   "cell_type": "code",
   "execution_count": 238,
   "metadata": {},
   "outputs": [
    {
     "data": {
      "text/plain": [
       "10"
      ]
     },
     "execution_count": 238,
     "metadata": {},
     "output_type": "execute_result"
    }
   ],
   "source": [
    "best_n_components"
   ]
  },
  {
   "cell_type": "code",
   "execution_count": 239,
   "metadata": {},
   "outputs": [
    {
     "name": "stdout",
     "output_type": "stream",
     "text": [
      "Training Set Balanced Accuracy: 0.6326818265091535\n",
      "k-Fold Cross-Validation Balanced Accuracy: 0.5313823364860467\n"
     ]
    }
   ],
   "source": [
    "scaler = StandardScaler()\n",
    "model = SVC(C=0.5, kernel='rbf', random_state=5)\n",
    "pca = PCA(n_components=10, random_state=5)\n",
    "\n",
    "val_acc_scores = []\n",
    "trn_acc_scores = []\n",
    "\n",
    "for train_index, val_index in kf.split(X_train):\n",
    "    x_trn, x_val = X_train.iloc[train_index,:], X_train.iloc[val_index,:]\n",
    "    y_trn, y_val = y_train.iloc[train_index], y_train.iloc[val_index]\n",
    "    \n",
    "    scaler.fit(x_trn)\n",
    "    x_trn = scaler.transform(x_trn)\n",
    "    x_val = scaler.transform(x_val)\n",
    "    \n",
    "    pca.fit(x_trn, y_trn)\n",
    "    PCA_x_trn = pca.transform(x_trn)\n",
    "    PCA_x_val = pca.transform(x_val)\n",
    "    \n",
    "    model.fit(PCA_x_trn, y_trn)\n",
    "    val_pred_values = model.predict(PCA_x_val)\n",
    "    trn_pred_values = model.predict(PCA_x_trn)\n",
    "    \n",
    "    acc = balanced_accuracy_score(np.ravel(y_val), val_pred_values)\n",
    "    val_acc_scores.append(acc)\n",
    "    \n",
    "    acc = balanced_accuracy_score(np.ravel(y_trn), trn_pred_values)\n",
    "    trn_acc_scores.append(acc)\n",
    "    \n",
    "val_avg_acc = sum(val_acc_scores) / kf.get_n_splits(X_train)\n",
    "trn_avg_acc = sum(trn_acc_scores) / kf.get_n_splits(X_train)\n",
    "\n",
    "print('Training Set Balanced Accuracy: ' + str(trn_avg_acc))\n",
    "print('k-Fold Cross-Validation Balanced Accuracy: ' + str(val_avg_acc))"
   ]
  },
  {
   "cell_type": "markdown",
   "metadata": {},
   "source": [
    "**Best k-Fold CV Bal. Acc. (Training Set Bal. Acc.):** 0.5313823364860467 (0.6326818265091535)\n",
    "\n",
    "**Feature Scale Function:** StandardScaler()\n",
    "\n",
    "**PCA n_components:** 10\n",
    "\n",
    "**Hyperparameters:** C=0.5, kernel='rbf'"
   ]
  },
  {
   "cell_type": "markdown",
   "metadata": {},
   "source": [
    "<h3>5.3: Feature Selection (Features From 3.3)</h3>"
   ]
  },
  {
   "cell_type": "code",
   "execution_count": 43,
   "metadata": {},
   "outputs": [],
   "source": [
    "# Feature Scaling:\n",
    "# - MinMaxScaler()\n",
    "# - StandardScaler()"
   ]
  },
  {
   "cell_type": "code",
   "execution_count": 20,
   "metadata": {},
   "outputs": [],
   "source": [
    "scaler = StandardScaler()\n",
    "# There is no cross-validation estimator for SVC\n",
    "model = SVC(kernel='linear', random_state=5)\n",
    "\n",
    "selector = RFECV(estimator=model, step=1, cv=kf, scoring='balanced_accuracy', n_jobs=-1)\n",
    "\n",
    "pipeline = Pipeline(steps=[('scale', scaler), ('selector', selector)])\n",
    "pipeline.fit(X_train, y_train)\n",
    "\n",
    "feat_ranks = selector.ranking_"
   ]
  },
  {
   "cell_type": "code",
   "execution_count": 22,
   "metadata": {},
   "outputs": [],
   "source": [
    "sel_feat_i = np.where(feat_ranks==1)[0]\n",
    "feat_names=[]\n",
    "for i in sel_feat_i:\n",
    "    feat_names.append(X_train.columns[i])"
   ]
  },
  {
   "cell_type": "code",
   "execution_count": 33,
   "metadata": {},
   "outputs": [],
   "source": [
    "# remove head coaches and stadiums no longer relevant\n",
    "feat_names_1=['indoor_stadium','divisional','AT&T Stadium','Arrowhead Stadium','Caesars Superdome','Empower Field at Mile High',\n",
    "              'Mercedes-Benz Stadium','MetLife Stadium','NRG Stadium','Paul Brown Stadium','State Farm Stadium',\n",
    "              'U.S. Bank Stadium','wind_speed','home_coach Andy Reid','home_coach Bruce Arians','home_coach Kliff Kingsbury',\n",
    "              'home_coach Mike Vrabel','home_coach Sean Payton','home_coach Zac Taylor','away_coach Bruce Arians',\n",
    "              'away_coach Kliff Kingsbury','away_coach Mike McCarthy','away_coach Mike Tomlin','home_off_pen_yds',\n",
    "              'away_off_pen_yds','home_def_pen_yds','away_def_rush_ypc','away_off_any_a','home_off_edps','away_off_edps',\n",
    "              'home_def_edrs','away_def_edrs','away_fumbles_lost','home_def_int_rate','home_def_yppr','away_off_avg_sfp',\n",
    "              'away_def_avg_sfp','home_def_spcr','away_def_spcr','away_off_fdcr','home_def_pts_100','away_lw_tom',\n",
    "              'home_margin_o_u','away_margin_o_u']"
   ]
  },
  {
   "cell_type": "code",
   "execution_count": 34,
   "metadata": {},
   "outputs": [],
   "source": [
    "# From 3.3\n",
    "feat_names_2=['divisional','AT&T Stadium','Allegiant Stadium','Arrowhead Stadium','Caesars Superdome','MetLife Stadium',\n",
    "             'Paul Brown Stadium','State Farm Stadium','wind_speed','home_coach Andy Reid','home_coach Bruce Arians', \n",
    "             'home_coach Kevin Stefanski','home_coach Kliff Kingsbury','home_coach Mike Vrabel','home_coach Zac Taylor', \n",
    "             'away_coach Bill Belichick','away_coach Bruce Arians','away_coach Joe Judge','away_coach Kliff Kingsbury', \n",
    "             'away_coach Mike McCarthy','away_coach Mike Tomlin','away_coach Sean McDermott','home_FG_49','away_FG_49', \n",
    "             'away_punts_in_20','home_off_pen_yds','away_off_pen_yds','home_def_pen_yds','away_def_rush_ypc','home_off_any_a',\n",
    "             'away_off_any_a','away_def_epr','home_off_edps','away_off_edps','home_def_edrs','away_fumbles_lost', \n",
    "             'home_def_int_rate','away_off_avg_sfp','away_off_spcr','home_def_spcr','away_def_spcr','away_off_dpcr', \n",
    "             'away_off_fdcr','away_def_fdcr','away_def_rze','home_def_pts_100','away_def_pts_100','away_lw_tom', \n",
    "             'home_margin_o_u','away_margin_o_u']"
   ]
  },
  {
   "cell_type": "code",
   "execution_count": 40,
   "metadata": {},
   "outputs": [],
   "source": [
    "FS_x_train = X_train[feat_names_2]\n",
    "\n",
    "scaler = StandardScaler()\n",
    "model = SVC(kernel='linear', random_state=5)\n",
    "\n",
    "parameters = dict(C=np.arange(0.1,2,0.1))\n",
    "\n",
    "search = GridSearchCV(estimator=model, param_grid=parameters, scoring='balanced_accuracy', n_jobs=-1, cv=kf)\n",
    "\n",
    "pipeline = Pipeline(steps=[('scale', scaler), ('search', search)])\n",
    "pipeline.fit(FS_x_train, y_train)\n",
    "\n",
    "best_params = search.best_params_\n",
    "best_cv_score = search.best_score_"
   ]
  },
  {
   "cell_type": "code",
   "execution_count": 41,
   "metadata": {},
   "outputs": [
    {
     "data": {
      "text/plain": [
       "{'C': 0.1}"
      ]
     },
     "execution_count": 41,
     "metadata": {},
     "output_type": "execute_result"
    }
   ],
   "source": [
    "best_params"
   ]
  },
  {
   "cell_type": "code",
   "execution_count": 42,
   "metadata": {},
   "outputs": [
    {
     "name": "stdout",
     "output_type": "stream",
     "text": [
      "Training Set Balanced Accuracy: 0.6243121728512697\n",
      "k-Fold Cross-Validation Balanced Accuracy: 0.5916241132806005\n"
     ]
    }
   ],
   "source": [
    "scaler = StandardScaler()\n",
    "model = SVC(C=0.1, kernel='linear', random_state=5)\n",
    "\n",
    "FS_x_train = X_train[feat_names_2]\n",
    "\n",
    "val_acc_scores = []\n",
    "trn_acc_scores = []\n",
    "\n",
    "for train_index, val_index in kf.split(FS_x_train):\n",
    "    x_trn, x_val = FS_x_train.iloc[train_index,:], FS_x_train.iloc[val_index,:]\n",
    "    y_trn, y_val = y_train.iloc[train_index], y_train.iloc[val_index]\n",
    "    \n",
    "    scaler.fit(x_trn)\n",
    "    x_trn = scaler.transform(x_trn)\n",
    "    x_val = scaler.transform(x_val)\n",
    "    \n",
    "    model.fit(x_trn, y_trn)\n",
    "    val_pred_values = model.predict(x_val)\n",
    "    trn_pred_values = model.predict(x_trn)\n",
    "    \n",
    "    acc = balanced_accuracy_score(np.ravel(y_val), val_pred_values)\n",
    "    val_acc_scores.append(acc)  \n",
    "    \n",
    "    acc = balanced_accuracy_score(np.ravel(y_trn), trn_pred_values)\n",
    "    trn_acc_scores.append(acc)\n",
    "\n",
    "val_avg_acc = sum(val_acc_scores) / kf.get_n_splits(FS_x_train)\n",
    "trn_avg_acc = sum(trn_acc_scores) / kf.get_n_splits(FS_x_train)\n",
    "\n",
    "print('Training Set Balanced Accuracy: ' + str(trn_avg_acc))\n",
    "print('k-Fold Cross-Validation Balanced Accuracy: ' + str(val_avg_acc))"
   ]
  },
  {
   "cell_type": "markdown",
   "metadata": {},
   "source": [
    "**Best k-Fold CV Bal. Acc. (Training Set Bal. Acc.):** 0.5916241132806005 (0.6243121728512697)\n",
    "\n",
    "**Feature Scale Function:** StandardScaler()\n",
    "\n",
    "**Features Selected (50):**  ['divisional','AT&T Stadium','Allegiant Stadium','Arrowhead Stadium','Caesars Superdome','MetLife Stadium','Paul Brown Stadium','State Farm Stadium','wind_speed','home_coach Andy Reid','home_coach Bruce Arians', \n",
    "'home_coach Kevin Stefanski','home_coach Kliff Kingsbury','home_coach Mike Vrabel','home_coach Zac Taylor', \n",
    "'away_coach Bill Belichick','away_coach Bruce Arians','away_coach Joe Judge','away_coach Kliff Kingsbury', \n",
    "'away_coach Mike McCarthy','away_coach Mike Tomlin','away_coach Sean McDermott','home_FG_49','away_FG_49', \n",
    "'away_punts_in_20','home_off_pen_yds','away_off_pen_yds','home_def_pen_yds','away_def_rush_ypc','home_off_any_a',\n",
    "'away_off_any_a','away_def_epr','home_off_edps','away_off_edps','home_def_edrs','away_fumbles_lost', \n",
    "'home_def_int_rate','away_off_avg_sfp','away_off_spcr','home_def_spcr','away_def_spcr','away_off_dpcr', \n",
    "'away_off_fdcr','away_def_fdcr','away_def_rze','home_def_pts_100','away_def_pts_100','away_lw_tom', \n",
    "'home_margin_o_u','away_margin_o_u']\n",
    "\n",
    "**Hyperparameters:** C=0.1, kernel='linear'"
   ]
  },
  {
   "cell_type": "markdown",
   "metadata": {},
   "source": [
    "<h2>Model 6: Gaussian Naive Bayes Classifier</h2>"
   ]
  },
  {
   "cell_type": "code",
   "execution_count": 49,
   "metadata": {},
   "outputs": [],
   "source": [
    "# Gaussian Naive Bayes Classifier Hyperparameters Tuned\n",
    "# None"
   ]
  },
  {
   "cell_type": "markdown",
   "metadata": {},
   "source": [
    "<h3>6.1: No Feature Selection/Extraction (Must Remove Non-Normally Distributed Features)</h3>"
   ]
  },
  {
   "cell_type": "code",
   "execution_count": 47,
   "metadata": {},
   "outputs": [],
   "source": [
    "# Feature Scaling:\n",
    "# - MinMaxScaler()\n",
    "# - StandardScaler()"
   ]
  },
  {
   "cell_type": "code",
   "execution_count": 192,
   "metadata": {},
   "outputs": [
    {
     "data": {
      "text/plain": [
       "91"
      ]
     },
     "execution_count": 192,
     "metadata": {},
     "output_type": "execute_result"
    }
   ],
   "source": [
    "# all features following a normal (gaussian) distribution\n",
    "feat_names = ['temp','humidity','wind_speed','home_avg_pos_time','away_avg_pos_time','home_PAT','away_PAT','home_FG_39',\n",
    "              'away_FG_39','home_FG_49','away_FG_49','home_FG_50','away_FG_50','home_yds_per_punt','away_yds_per_punt',\n",
    "              'home_punts_in_20','away_punts_in_20','home_off_pen_yds','away_off_pen_yds','home_def_pen_yds','away_def_pen_yds',\n",
    "              'home_off_rush_ypc','away_off_rush_ypc','home_def_rush_ypc','away_def_rush_ypc','home_off_any_a','away_off_any_a',\n",
    "              'home_def_any_a','away_def_any_a','home_off_epr','away_off_epr','home_def_epr','away_def_epr','home_off_edps',\n",
    "              'away_off_edps','home_def_edps','away_def_edps','home_off_edrs','away_off_edrs','home_def_edrs','away_def_edrs',\n",
    "              'home_fumbles_lost','away_fumbles_lost','home_fumbles_taken','away_fumbles_taken','home_off_int_rate',\n",
    "              'away_off_int_rate','home_def_int_rate','away_def_int_rate','home_off_yppr','away_off_yppr','home_def_yppr',\n",
    "              'away_def_yppr','home_off_ypkr','away_off_ypkr','home_def_ypkr','away_def_ypkr','home_off_avg_sfp',\n",
    "              'away_off_avg_sfp','home_def_avg_sfp','away_def_avg_sfp','home_off_spcr','away_off_spcr','home_def_spcr',\n",
    "              'away_def_spcr','home_off_dpcr','away_off_dpcr','home_def_dpcr','away_def_dpcr','home_off_tdcr','away_off_tdcr',\n",
    "              'home_def_tdcr','away_def_tdcr','home_off_fdcr','away_off_fdcr','home_def_fdcr','away_def_fdcr','home_off_rze',\n",
    "              'away_off_rze','home_def_rze','away_def_rze','home_def_pts_100','away_def_pts_100','home_lw_tom','away_lw_tom',\n",
    "              'home_margin_o_u','away_margin_o_u','home_margin_ats','away_margin_ats','vegas_over_under',\n",
    "              'vegas_home_min_away_spread']\n",
    "len(feat_names)"
   ]
  },
  {
   "cell_type": "code",
   "execution_count": 193,
   "metadata": {},
   "outputs": [
    {
     "name": "stdout",
     "output_type": "stream",
     "text": [
      "Training Set Balanced Accuracy: 0.6242380081214064\n",
      "k-Fold Cross-Validation Balanced Accuracy: 0.5117230900502522\n"
     ]
    }
   ],
   "source": [
    "# drop all non-normally (gaussian) distributed features\n",
    "FS_x_train = X_train[feat_names]\n",
    "\n",
    "scaler = StandardScaler()\n",
    "model = GaussianNB()\n",
    "\n",
    "val_acc_scores = []\n",
    "trn_acc_scores = []\n",
    "\n",
    "for train_index, val_index in kf.split(FS_x_train):\n",
    "    x_trn, x_val = FS_x_train.iloc[train_index,:], FS_x_train.iloc[val_index,:]\n",
    "    y_trn, y_val = y_train.iloc[train_index], y_train.iloc[val_index]\n",
    "    \n",
    "    scaler.fit(x_trn)\n",
    "    x_trn = scaler.transform(x_trn)\n",
    "    x_val = scaler.transform(x_val)\n",
    "    \n",
    "    model.fit(x_trn, y_trn)\n",
    "    val_pred_values = model.predict(x_val)\n",
    "    trn_pred_values = model.predict(x_trn)\n",
    "    \n",
    "    acc = balanced_accuracy_score(np.ravel(y_val), val_pred_values)\n",
    "    val_acc_scores.append(acc)\n",
    "    \n",
    "    acc = balanced_accuracy_score(np.ravel(y_trn), trn_pred_values)\n",
    "    trn_acc_scores.append(acc)\n",
    "\n",
    "val_avg_acc = sum(val_acc_scores) / kf.get_n_splits(FS_x_train)\n",
    "trn_avg_acc = sum(trn_acc_scores) / kf.get_n_splits(FS_x_train)\n",
    "\n",
    "print('Training Set Balanced Accuracy: ' + str(trn_avg_acc))\n",
    "print('k-Fold Cross-Validation Balanced Accuracy: ' + str(val_avg_acc))"
   ]
  },
  {
   "cell_type": "markdown",
   "metadata": {},
   "source": [
    "**Best k-Fold CV Bal. Acc. (Training Set Bal. Acc.):** 0.5254084922950669 (0.6070352283065081)\n",
    "\n",
    "**Feature Scale Function:** StandardScaler()\n",
    "\n",
    "**Hyperparameters:** None"
   ]
  },
  {
   "cell_type": "markdown",
   "metadata": {},
   "source": [
    "<h3>6.2: Feature Extraction by PCA</h3>"
   ]
  },
  {
   "cell_type": "code",
   "execution_count": 51,
   "metadata": {},
   "outputs": [],
   "source": [
    "# Feature Scaling:\n",
    "# - MinMaxScaler()\n",
    "# - StandardScaler()"
   ]
  },
  {
   "cell_type": "code",
   "execution_count": 206,
   "metadata": {},
   "outputs": [
    {
     "name": "stdout",
     "output_type": "stream",
     "text": [
      "Training Set Balanced Accuracy: 0.5377924463783499\n",
      "k-Fold Cross-Validation Balanced Accuracy: 0.5036153362972139\n"
     ]
    }
   ],
   "source": [
    "scaler = StandardScaler()\n",
    "FS_x_train = X_train[feat_names]\n",
    "model = GaussianNB()\n",
    "pca = PCA(n_components=10, random_state=5)\n",
    "\n",
    "val_acc_scores = []\n",
    "trn_acc_scores = []\n",
    "\n",
    "for train_index, val_index in kf.split(FS_x_train):\n",
    "    x_trn, x_val = FS_x_train.iloc[train_index,:], FS_x_train.iloc[val_index,:]\n",
    "    y_trn, y_val = y_train.iloc[train_index], y_train.iloc[val_index]\n",
    "    \n",
    "    scaler.fit(x_trn)\n",
    "    x_trn = scaler.transform(x_trn)\n",
    "    x_val = scaler.transform(x_val)\n",
    "    \n",
    "    pca.fit(x_trn, y_trn)\n",
    "    PCA_x_trn = pca.transform(x_trn)\n",
    "    PCA_x_val = pca.transform(x_val)\n",
    "    \n",
    "    model.fit(PCA_x_trn, y_trn)\n",
    "    val_pred_values = model.predict(PCA_x_val)\n",
    "    trn_pred_values = model.predict(PCA_x_trn)\n",
    "    \n",
    "    acc = balanced_accuracy_score(np.ravel(y_val), val_pred_values)\n",
    "    val_acc_scores.append(acc)\n",
    "    \n",
    "    acc = balanced_accuracy_score(np.ravel(y_trn), trn_pred_values)\n",
    "    trn_acc_scores.append(acc)\n",
    "    \n",
    "val_avg_acc = sum(val_acc_scores) / kf.get_n_splits(FS_x_train)\n",
    "trn_avg_acc = sum(trn_acc_scores) / kf.get_n_splits(FS_x_train)\n",
    "\n",
    "print('Training Set Balanced Accuracy: ' + str(trn_avg_acc))\n",
    "print('k-Fold Cross-Validation Balanced Accuracy: ' + str(val_avg_acc))"
   ]
  },
  {
   "cell_type": "markdown",
   "metadata": {},
   "source": [
    "**Best k-Fold CV Bal. Acc. (Training Set Bal. Acc.):** 0.5353900541843305 (0.5562243125512895)\n",
    "\n",
    "**Feature Scale Function:** StandardScaler()\n",
    "\n",
    "**PCA n_components:** 14\n",
    "\n",
    "**Hyperparameters:** None"
   ]
  },
  {
   "cell_type": "markdown",
   "metadata": {},
   "source": [
    "<h3>6.3: Feature Selection (Features From 3.3)</h3>"
   ]
  },
  {
   "cell_type": "code",
   "execution_count": 60,
   "metadata": {},
   "outputs": [],
   "source": [
    "# Feature Scaling:\n",
    "# - MinMaxScaler()\n",
    "# - StandardScaler()"
   ]
  },
  {
   "cell_type": "code",
   "execution_count": 207,
   "metadata": {},
   "outputs": [],
   "source": [
    "feat_names= ['divisional','Arrowhead Stadium','Caesars Superdome','Lambeau Field',\"Levi's Stadium\",'Lincoln Financial Field',\n",
    "             'Lucas Oil Stadium','Soldier Field','State Farm Stadium','home_coach Bruce Arians','home_coach Frank Reich',\n",
    "'home_coach Kyle Shanahan','home_coach Mike McCarthy','away_coach Mike Tomlin','away_coach Sean McDermott',\n",
    "'home_off_pen_yds','away_off_pen_yds','home_def_pen_yds','home_def_edps','home_def_edrs','away_fumbles_lost',\n",
    "'home_def_int_rate','away_off_avg_sfp','home_def_avg_sfp','away_off_spcr','home_def_spcr','away_def_spcr',\n",
    "'home_off_dpcr','home_def_dpcr','away_off_fdcr','home_margin_o_u']\n"
   ]
  },
  {
   "cell_type": "code",
   "execution_count": 208,
   "metadata": {},
   "outputs": [
    {
     "name": "stdout",
     "output_type": "stream",
     "text": [
      "Training Set Balanced Accuracy: 0.5701654982439746\n",
      "k-Fold Cross-Validation Balanced Accuracy: 0.5479746749580434\n"
     ]
    }
   ],
   "source": [
    "scaler = StandardScaler()\n",
    "model = GaussianNB()\n",
    "\n",
    "FS_x_train = X_train[feat_names]\n",
    "\n",
    "val_acc_scores = []\n",
    "trn_acc_scores = []\n",
    "\n",
    "for train_index, val_index in kf.split(FS_x_train):\n",
    "    x_trn, x_val = FS_x_train.iloc[train_index,:], FS_x_train.iloc[val_index,:]\n",
    "    y_trn, y_val = y_train.iloc[train_index], y_train.iloc[val_index]\n",
    "    \n",
    "    scaler.fit(x_trn)\n",
    "    x_trn = scaler.transform(x_trn)\n",
    "    x_val = scaler.transform(x_val)\n",
    "    \n",
    "    model.fit(x_trn, y_trn)\n",
    "    val_pred_values = model.predict(x_val)\n",
    "    trn_pred_values = model.predict(x_trn)\n",
    "    \n",
    "    acc = balanced_accuracy_score(np.ravel(y_val), val_pred_values)\n",
    "    val_acc_scores.append(acc)  \n",
    "    \n",
    "    acc = balanced_accuracy_score(np.ravel(y_trn), trn_pred_values)\n",
    "    trn_acc_scores.append(acc)\n",
    "\n",
    "val_avg_acc = sum(val_acc_scores) / kf.get_n_splits(FS_x_train)\n",
    "trn_avg_acc = sum(trn_acc_scores) / kf.get_n_splits(FS_x_train)\n",
    "\n",
    "print('Training Set Balanced Accuracy: ' + str(trn_avg_acc))\n",
    "print('k-Fold Cross-Validation Balanced Accuracy: ' + str(val_avg_acc))"
   ]
  },
  {
   "cell_type": "markdown",
   "metadata": {},
   "source": [
    "**Best k-Fold CV Bal. Acc. (Training Set Bal. Acc.):** 0.5542769402662424 (0.5894249526948161)\n",
    "\n",
    "**Feature Scale Function:** StandardScaler()\n",
    "\n",
    "**Features Selected (50):**  ['divisional','AT&T Stadium','Allegiant Stadium','Arrowhead Stadium','Caesars Superdome','MetLife Stadium','Paul Brown Stadium','State Farm Stadium','wind_speed','home_coach Andy Reid','home_coach Bruce Arians', \n",
    "'home_coach Kevin Stefanski','home_coach Kliff Kingsbury','home_coach Mike Vrabel','home_coach Zac Taylor', \n",
    "'away_coach Bill Belichick','away_coach Bruce Arians','away_coach Joe Judge','away_coach Kliff Kingsbury', \n",
    "'away_coach Mike McCarthy','away_coach Mike Tomlin','away_coach Sean McDermott','home_FG_49','away_FG_49', \n",
    "'away_punts_in_20','home_off_pen_yds','away_off_pen_yds','home_def_pen_yds','away_def_rush_ypc','home_off_any_a',\n",
    "'away_off_any_a','away_def_epr','home_off_edps','away_off_edps','home_def_edrs','away_fumbles_lost', \n",
    "'home_def_int_rate','away_off_avg_sfp','away_off_spcr','home_def_spcr','away_def_spcr','away_off_dpcr', \n",
    "'away_off_fdcr','away_def_fdcr','away_def_rze','home_def_pts_100','away_def_pts_100','away_lw_tom', \n",
    "'home_margin_o_u','away_margin_o_u']\n",
    "\n",
    "**Hyperparameters:** None"
   ]
  },
  {
   "cell_type": "markdown",
   "metadata": {},
   "source": [
    "<h2>Final Classification Model</h2>"
   ]
  },
  {
   "cell_type": "code",
   "execution_count": 456,
   "metadata": {},
   "outputs": [],
   "source": [
    "feat_names = ['divisional','Arrowhead Stadium','Caesars Superdome','Lambeau Field',\"Levi's Stadium\",'Lincoln Financial Field',\n",
    "              'Lucas Oil Stadium','Soldier Field','State Farm Stadium','home_coach Bruce Arians','home_coach Frank Reich',\n",
    "              'home_coach Kyle Shanahan','home_coach Mike McCarthy','away_coach Mike Tomlin','away_coach Sean McDermott',\n",
    "              'home_off_pen_yds','away_off_pen_yds','home_def_pen_yds','home_def_edps','home_def_edrs','away_fumbles_lost',\n",
    "              'home_def_int_rate','away_off_avg_sfp','home_def_avg_sfp','away_off_spcr','home_def_spcr','away_def_spcr',\n",
    "              'home_off_dpcr','home_def_dpcr','away_off_fdcr','home_margin_o_u']"
   ]
  },
  {
   "cell_type": "code",
   "execution_count": 457,
   "metadata": {},
   "outputs": [
    {
     "name": "stdout",
     "output_type": "stream",
     "text": [
      "Training Set Balanced Accuracy: 0.6142048986696507\n",
      "Test Set Balanced Accuracy: 0.5522388059701493\n"
     ]
    }
   ],
   "source": [
    "scaler = StandardScaler()\n",
    "\n",
    "model = MLPClassifier(hidden_layer_sizes=(65,), activation='identity', alpha=0.07, random_state=5)\n",
    "\n",
    "FS_x_train = X_train[feat_names]\n",
    "FS_x_test = X_test[feat_names]\n",
    "\n",
    "scaler.fit(FS_x_train)\n",
    "x_trn = scaler.transform(FS_x_train)\n",
    "x_tst = scaler.transform(FS_x_test)\n",
    "\n",
    "model.fit(x_trn, y_train)\n",
    "train_pred_values = model.predict(x_trn)\n",
    "test_pred_values = model.predict(x_tst)\n",
    "\n",
    "train_acc = balanced_accuracy_score(np.ravel(y_train), train_pred_values)\n",
    "test_acc = balanced_accuracy_score(np.ravel(y_test), test_pred_values)\n",
    "\n",
    "print('Training Set Balanced Accuracy: ' + str(train_acc))\n",
    "print('Test Set Balanced Accuracy: ' + str(test_acc))"
   ]
  },
  {
   "cell_type": "markdown",
   "metadata": {},
   "source": [
    "<h2>Model Simulation</h2>"
   ]
  },
  {
   "cell_type": "code",
   "execution_count": 463,
   "metadata": {},
   "outputs": [
    {
     "name": "stdout",
     "output_type": "stream",
     "text": [
      "Starting Bankroll: $10000\n",
      "Avg Ending Bankroll (256 Games): $36456.87\n",
      "Bet Win %: 0.5794\n",
      "Min Ending Bankroll: $8175.11\n",
      "Max Ending Bankroll: $103908.63\n",
      "Avg Bet Size: $1068.57\n"
     ]
    },
    {
     "data": {
      "image/png": "[encoded data removed]",
      "text/plain": [
       "<Figure size 960x640 with 1 Axes>"
      ]
     },
     "metadata": {
      "needs_background": "light"
     },
     "output_type": "display_data"
    }
   ],
   "source": [
    "plt.figure(figsize=(12, 8), dpi=80)\n",
    "\n",
    "ending_bankrolls = []\n",
    "correct = []\n",
    "min_bankrolls = []\n",
    "max_bankrolls = []\n",
    "bet_size_lst = []\n",
    "\n",
    "scaler = StandardScaler()\n",
    "for n in range(20):\n",
    "    model = MLPClassifier(hidden_layer_sizes=(65,), activation='identity', alpha=0.07)\n",
    "    \n",
    "    X_train, X_test, y_train, y_test = train_test_split(X, y, test_size=0.1275)\n",
    "    FS_x_train = X_train[feat_names]\n",
    "    FS_x_test = X_test[feat_names]\n",
    "    \n",
    "    scaler.fit(FS_x_train)\n",
    "    x_trn = scaler.transform(FS_x_train)\n",
    "    x_tst = scaler.transform(FS_x_test)\n",
    "    \n",
    "    model.fit(x_trn, y_train)\n",
    "    test_pred_values = model.predict(x_tst)\n",
    "    \n",
    "    pred = test_pred_values\n",
    "    actual = np.ravel(y_test)\n",
    "    \n",
    "    i = -1\n",
    "    bankroll = 10000\n",
    "    bet_size = 500\n",
    "    bet_size_frac = 0.05\n",
    "\n",
    "    bet_ind = []\n",
    "    bankroll_lst = []\n",
    "    \n",
    "    broke = False\n",
    "    while((i+1 < len(pred)) and (broke == False)):\n",
    "        i += 1\n",
    "        bet_ind.append(i)\n",
    "        bankroll_lst.append(bankroll)\n",
    "        bet_size_lst.append(bet_size)\n",
    "\n",
    "        if(pred[i] == actual[i]):\n",
    "            winnings = round(bet_size*0.909091, 2)\n",
    "            bankroll += winnings\n",
    "            correct.append(1)\n",
    "        else:\n",
    "            bankroll -= bet_size\n",
    "            correct.append(0)\n",
    "        bankroll = round(bankroll, 2)\n",
    "\n",
    "        if((i+1) % 10 == 0):\n",
    "            bet_size = round(bankroll*bet_size_frac, 2)\n",
    "\n",
    "        if(bankroll < bet_size):\n",
    "            broke = True\n",
    "    \n",
    "    ending_bankrolls.append(bankroll)\n",
    "    min_bankrolls.append(min(bankroll_lst))\n",
    "    max_bankrolls.append(max(bankroll_lst))\n",
    "    \n",
    "    plt.plot(bet_ind, bankroll_lst)\n",
    "\n",
    "print('Starting Bankroll: $10000')\n",
    "print('Avg Ending Bankroll (256 Games): $' + str(round(sum(ending_bankrolls)/len(ending_bankrolls), 2)))\n",
    "print('Bet Win %: ' + str(round(sum(correct) / len(correct), 4)))\n",
    "print('Min Ending Bankroll: $' + str(min(ending_bankrolls)))\n",
    "print('Max Ending Bankroll: $' + str(max(ending_bankrolls)))\n",
    "print('Avg Bet Size: $' + str(round(sum(bet_size_lst) / len(bet_size_lst), 2)))"
   ]
  },
  {
   "cell_type": "markdown",
   "metadata": {},
   "source": [
    "<h2>Identifying High Value Bets: Logistic Regression</h2>"
   ]
  },
  {
   "cell_type": "code",
   "execution_count": null,
   "metadata": {},
   "outputs": [],
   "source": [
    "# Logistic Regression Hyperparameters Tuned:\n",
    "# - penalty: {'l1', 'l2', 'elasticnet', 'none'}\n",
    "# - C: Regularization parameter (positive)"
   ]
  },
  {
   "cell_type": "code",
   "execution_count": 465,
   "metadata": {},
   "outputs": [],
   "source": [
    "scaler = StandardScaler()\n",
    "model = LogisticRegression(random_state=5)\n",
    "\n",
    "parameters = dict(penalty=['l1', 'l2', 'elasticnet', 'none'], C=np.arange(0,5,0.1))\n",
    "\n",
    "search = GridSearchCV(estimator=model, param_grid=parameters, scoring='neg_log_loss', n_jobs=-1, cv=kf)\n",
    "\n",
    "pipeline = Pipeline(steps=[('scale', scaler), ('search', search)])\n",
    "pipeline.fit(X_train, y_train)\n",
    "\n",
    "best_params = search.best_params_\n",
    "best_cv_score = search.best_score_"
   ]
  },
  {
   "cell_type": "code",
   "execution_count": null,
   "metadata": {},
   "outputs": [],
   "source": []
  }
 ],
 "metadata": {
  "kernelspec": {
   "display_name": "Python 3",
   "language": "python",
   "name": "python3"
  },
  "language_info": {
   "codemirror_mode": {
    "name": "ipython",
    "version": 3
   },
   "file_extension": ".py",
   "mimetype": "text/x-python",
   "name": "python",
   "nbconvert_exporter": "python",
   "pygments_lexer": "ipython3",
   "version": "3.8.3"
  }
 },
 "nbformat": 4,
 "nbformat_minor": 4
}
